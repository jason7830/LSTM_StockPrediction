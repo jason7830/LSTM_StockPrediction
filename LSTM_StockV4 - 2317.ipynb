{
 "cells": [
  {
   "cell_type": "code",
   "execution_count": 1,
   "metadata": {},
   "outputs": [
    {
     "name": "stderr",
     "output_type": "stream",
     "text": [
      "Using TensorFlow backend.\n"
     ]
    }
   ],
   "source": [
    "from sklearn.preprocessing import MinMaxScaler , StandardScaler , QuantileTransformer , normalize\n",
    "from lib.Model import Model\n",
    "from keras.layers.advanced_activations import LeakyReLU\n",
    "from keras.layers import LSTM, Dense, Dropout, Input, Concatenate\n",
    "from keras.optimizers import Adam\n",
    "from keras.callbacks import EarlyStopping , ModelCheckpoint\n",
    "from keras import metrics, regularizers\n",
    "import pandas as pd\n",
    "import numpy as np\n",
    "from numpy import newaxis\n",
    "import matplotlib.pyplot as plt\n",
    "import datetime as dt\n",
    "import csv\n",
    "import re\n",
    "from lib.DataProcess import Data"
   ]
  },
  {
   "cell_type": "code",
   "execution_count": 2,
   "metadata": {},
   "outputs": [],
   "source": [
    "def load_chips(file):\n",
    "    with open(file,'r',encoding='utf-8') as f:\n",
    "        reader = csv.reader(f)\n",
    "        chips = []\n",
    "        for r in reader:\n",
    "            r = np.array(r)\n",
    "            if len(r) == 18:\n",
    "                chips.append(r[[1,2,3,7,8,9,13,11,12,17]])\n",
    "            if len(r) == 15:\n",
    "                chips.append(r[[1,2,3,4,5,6,10,8,9,14]])\n",
    "            if len(r) == 11:\n",
    "                chips.append(r[1:])\n",
    "    return chips\n",
    "def minguo2Date(ming):\n",
    "    y , m , d = ming.split('/')\n",
    "    return str(int(y)+1911)+m+d\n",
    "\n",
    "step = 20\n",
    "units = 64\n",
    "epochs = 500\n",
    "batch_size = 256\n",
    "stock_no = '2317'\n",
    "model = Model()\n",
    "model.add_saveinfo(stock=stock_no,exinfo=' steps-{}'.format(step))\n",
    "early_stop = EarlyStopping(monitor='val_dense_1_loss', patience=20)\n",
    "model_cp = ModelCheckpoint(\"save/{}.cp\".format(dt.datetime.now().strftime('%Y-%m-%d_%H.%M')),monitor='val_dense_1_loss',save_best_only=True)\n",
    "\n",
    "df = pd.read_csv('data/indicators/2317_indicators.csv')\n",
    "df_chips = pd.DataFrame(load_chips('data/chips/chips_2317.csv'))\n",
    "index=0\n",
    "for i,d in enumerate(df.iloc[:,0].values):\n",
    "    if minguo2Date(d) == '20120502':\n",
    "        index = i\n",
    "df = df[index:].reset_index(drop=True)\n",
    "df = pd.concat([df,df_chips],axis=1)\n",
    "df.drop(np.arange(33).tolist())\n",
    "\n",
    "#get dates\n",
    "dates = Data(0.8,np.array(df.get(['date']).values),type=2)\n",
    "dates_train = dates.data_steps(dates.data_train,step)\n",
    "dates_train_x , dates_train_y = dates.get_x_y(dates_train)\n",
    "dates_val = dates.data_steps(dates.data_val,step)\n",
    "dates_val_x , dates_val_y = dates.get_x_y(dates_val)\n",
    "\n",
    "df = df.drop('date',axis=1)\n",
    "mms = QuantileTransformer()\n",
    "sc_data = mms.fit_transform(df.values)\n",
    "x_trains= []\n",
    "y_trains = []\n",
    "x_vals = []\n",
    "y_vals = []\n",
    "historys = []\n",
    "for i in range(sc_data.shape[1]):\n",
    "    d = Data(0.8,sc_data[:,i],type=2)\n",
    "    xt , yt = d.get_train(step,is_normalised=True,if_single_col=True)\n",
    "    xv , yv = d.get_val(step,is_normalised=True,if_single_col=True)\n",
    "    x_trains.append(xt[:,:,newaxis])\n",
    "    y_trains.append(yt)\n",
    "    x_vals.append(xv[:,:,newaxis])\n",
    "    y_vals.append(yv)"
   ]
  },
  {
   "cell_type": "code",
   "execution_count": null,
   "metadata": {},
   "outputs": [],
   "source": [
    "units = 64\n",
    "model = Model()\n",
    "for i in range(len(x_trains)):\n",
    "    model.addIOLayer(Input(shape=(step-1,1)),Dense(1,activation='relu'))\n",
    "model.addLayer(LSTM(units,activation='relu',kernel_regularizer = regularizers.l2(0.01),return_sequences=True))\n",
    "model.addLayer(LSTM(units,kernel_regularizer = regularizers.l2(0.01),return_sequences=True))\n",
    "model.addLayer(LSTM(units,kernel_regularizer = regularizers.l2(0.01),return_sequences=True))\n",
    "model.addLayer(LSTM(units,kernel_regularizer = regularizers.l2(0.01),return_sequences=False))\n",
    "model.build_model(loss='mean_squared_error',optimizer='Adam')\n",
    "model.model.summary()"
   ]
  },
  {
   "cell_type": "code",
   "execution_count": null,
   "metadata": {
    "scrolled": true
   },
   "outputs": [],
   "source": [
    "#model.train(x_trains,y_trains,x_vals,y_vals,epochs,batch_size,shuffle=False,callbacks=[early_stop,model_cp])\n",
    "train_gen = Data.generate_train_batch(x_trains,y_trains,batch_size=batch_size,is_multi_windows=True)\n",
    "train_steps_per_epoch = math.ceil((np.array(x_trains).shape[1] - step) / batch_size)\n",
    "val_gen = Data.generate_train_batch(x_vals,y_vals,batch_size=batch_size,is_multi_windows=True)\n",
    "val_steps_per_epoch = math.ceil((np.array(x_vals).shape[1] - step) / batch_size)\n",
    "model.train_generator(train_gen,train_steps_per_epoch,val_gen,val_steps_per_epoch,epochs,callbacks=[early_stop,model_cp])"
   ]
  },
  {
   "cell_type": "code",
   "execution_count": null,
   "metadata": {},
   "outputs": [],
   "source": [
    "historys.extend(model.history.history['val_dense_1_loss'])\n",
    "plt.plot(historys,label='closed_loss')\n",
    "plt.legend()\n",
    "plt.xlabel(\"epochs\")\n",
    "plt.ylabel(\"loss\")\n",
    "plt.savefig(model.save_path+'.png',dpi=200)\n",
    "plt.show()"
   ]
  },
  {
   "cell_type": "code",
   "execution_count": 3,
   "metadata": {},
   "outputs": [],
   "source": [
    "model = Model(load='save/V4 2019-10-15_03.53steps-20.h5')\n",
    "#model.model.summary()\n",
    "#from keras.utils import plot_model\n",
    "#plot_model(model.model, to_file='model.png')"
   ]
  },
  {
   "cell_type": "code",
   "execution_count": 4,
   "metadata": {},
   "outputs": [
    {
     "name": "stdout",
     "output_type": "stream",
     "text": [
      "Predicting recursively ... (window: 17/17) \r"
     ]
    }
   ],
   "source": [
    "preds = model.predict_recurrent(x_vals,20,True)\n",
    "ps = model.model.predict(x_vals)"
   ]
  },
  {
   "cell_type": "code",
   "execution_count": 5,
   "metadata": {},
   "outputs": [
    {
     "name": "stdout",
     "output_type": "stream",
     "text": [
      "Figure saved [2019-10-17_04.41.png].\n"
     ]
    },
    {
     "data": {
      "image/png": "[encoded data removed]",
      "text/plain": [
       "<Figure size 432x288 with 1 Axes>"
      ]
     },
     "metadata": {
      "needs_background": "light"
     },
     "output_type": "display_data"
    }
   ],
   "source": [
    "model.plot_recurrent_results(preds,y_vals,20,multi_io=True,show_legend=False,target_index=0,save=True)"
   ]
  },
  {
   "cell_type": "code",
   "execution_count": 6,
   "metadata": {},
   "outputs": [
    {
     "name": "stdout",
     "output_type": "stream",
     "text": [
      "Average Errors: 0.015766688096433817\n"
     ]
    },
    {
     "data": {
      "image/png": "[encoded data removed]",
      "text/plain": [
       "<Figure size 432x288 with 1 Axes>"
      ]
     },
     "metadata": {
      "needs_background": "light"
     },
     "output_type": "display_data"
    }
   ],
   "source": [
    "in_x_vals = mms.inverse_transform(np.array(x_vals)[:,:,-1,0].T)\n",
    "in_ps = mms.inverse_transform(np.array(ps)[:,:,0].T)\n",
    "in_preds = mms.inverse_transform(np.array(preds)[:,-1,:,0])\n",
    "in_y_vals = mms.inverse_transform(np.array(y_vals)[:,:,0].T)\n",
    "\n",
    "pre_closed = in_ps[:,0]\n",
    "#origin x prices\n",
    "x_closed = in_x_vals[:,0]\n",
    "true_closed = in_y_vals[:,0]\n",
    "#the last day of each window\n",
    "dates_step_last = dates_val_x[:,-1,0]\n",
    "true_step_closed = []\n",
    "pre_step_closed = []\n",
    "x_step_closed = []\n",
    "dates_x_step = []\n",
    "dates_y_step = []\n",
    "for i in range(0,int(len(x_closed)/step)):\n",
    "    x_step_closed.append(x_closed[i*step])\n",
    "    dates_x_step.append(dates_step_last[i*step])\n",
    "    true_step_closed.append(true_closed[(i+1)*step-1])\n",
    "    pre_step_closed.append(pre_closed[(i+1)*step-1])\n",
    "    dates_y_step.append(dates_val_y[(i+1)*step-1,0])\n",
    "\n",
    "avg_error = np.mean(np.abs(pre_closed-true_closed)/true_closed)\n",
    "print(\"Average Errors:\",avg_error)\n",
    "\n",
    "plt.plot(in_ps[:,0],label='Predictions')\n",
    "plt.plot(in_y_vals[:,0],label='Real')\n",
    "plt.title('Stock '+stock_no)\n",
    "plt.xlabel('Index')\n",
    "plt.ylabel('Price')\n",
    "plt.text(plt.xlim()[1]*0.3,plt.ylim()[1]*0.988,'Average Errors: {:0.2f}%'.format(avg_error*100))\n",
    "plt.legend(loc='best')\n",
    "plt.savefig('save/figs/avg_error/{}.png'.format(model.save_path[5:]),dpi=200)\n",
    "plt.show()"
   ]
  },
  {
   "cell_type": "code",
   "execution_count": 22,
   "metadata": {},
   "outputs": [],
   "source": [
    "#sr: spread rate\n",
    "def ROR(prices,preds,real,init_funds,period=12,sr=0.000,short=False):\n",
    "    dict_Info = {\n",
    "        'total_costs':[],\n",
    "        'total_prices':[],\n",
    "        'trade_times':[],\n",
    "        'verbose':[],\n",
    "        \"RORs\":[]\n",
    "    }\n",
    "    funds = init_funds\n",
    "    profit=0\n",
    "    total_cost=0\n",
    "    total_price=0\n",
    "    acc = []\n",
    "    times = 0\n",
    "    verbose = ''\n",
    "    for i,p in enumerate(real):\n",
    "        if preds[i]>prices[i] and (abs(preds[i]-prices[i])/prices[i]) > sr:\n",
    "            times +=1\n",
    "            quantity = int(funds / prices[i])\n",
    "            total_cost += prices[i] * quantity\n",
    "            total_price += p * quantity\n",
    "            funds += (p-prices[i]) * quantity\n",
    "            verbose += \"\\nBought Date: {} - {}\\nSold Date: {} - {}\\nPrediction: {}\\nProfit Spread: {}\\n\".format(dates_x_step[i],prices[i],dates_y_step[i],p,preds[i],p-prices[i])\n",
    "        elif short:\n",
    "            times +=1\n",
    "            quantity = int(funds / prices[i])\n",
    "            total_price += prices[i] * quantity\n",
    "            total_cost += p * quantity\n",
    "            funds += (prices[i]-p) * quantity\n",
    "            verbose += \"\\nShort Date: {} - {}\\nBought Date: {} - {}\\nPrediction: {}\\nProfit Spread: {}\\n\".format(dates_x_step[i],prices[i],dates_y_step[i],p,preds[i],prices[i]-p)\n",
    "        if (i+1)%period==0:\n",
    "            #pass and not record the rate of prediciotn 'pre' < rate of threshold 'r'\n",
    "            if total_cost != 0:\n",
    "                dict_Info['total_costs'].append(total_cost*1000)\n",
    "                dict_Info['total_prices'].append(total_price*1000)\n",
    "                dict_Info['trade_times'].append(times)\n",
    "                dict_Info['verbose'].append(verbose)\n",
    "                dict_Info['RORs'].append((funds)/init_funds)\n",
    "            times=0\n",
    "            funds = init_funds\n",
    "            total_cost=0\n",
    "            total_price=0\n",
    "            verbose = ''\n",
    "    if times!=0:\n",
    "        dict_Info['total_costs'].append(total_cost*1000)\n",
    "        dict_Info['total_prices'].append(total_price*1000)\n",
    "        dict_Info['trade_times'].append(times)\n",
    "        dict_Info['verbose'].append(verbose)\n",
    "        #exclude 0.00425%. including tax and trading fee\n",
    "        dict_Info['RORs'].append((funds)/init_funds*0.99575)\n",
    "    return dict_Info,init_funds"
   ]
  },
  {
   "cell_type": "code",
   "execution_count": 20,
   "metadata": {},
   "outputs": [
    {
     "name": "stdout",
     "output_type": "stream",
     "text": [
      "\n",
      "Short Date: 107/05/07 - 81.6\n",
      "Bought Date: 107/06/04 - 87.8\n",
      "Prediction: 73.35725402832031\n",
      "Profit Spread: -6.200000000000003\n",
      "\n",
      "Short Date: 107/06/04 - 87.8\n",
      "Bought Date: 107/07/03 - 80.7\n",
      "Prediction: 81.36109161376953\n",
      "Profit Spread: 7.099999999999994\n",
      "\n",
      "Short Date: 107/07/03 - 80.7\n",
      "Bought Date: 107/07/31 - 83.8\n",
      "Prediction: 73.37841033935547\n",
      "Profit Spread: -3.0999999999999943\n",
      "\n",
      "Short Date: 107/07/31 - 83.8\n",
      "Bought Date: 107/08/28 - 81.2\n",
      "Prediction: 75.80000305175781\n",
      "Profit Spread: 2.5999999999999943\n",
      "\n",
      "Short Date: 107/08/28 - 81.2\n",
      "Bought Date: 107/09/26 - 77.3\n",
      "Prediction: 73.37291717529297\n",
      "Profit Spread: 3.9000000000000057\n",
      "\n",
      "Short Date: 107/09/26 - 77.3\n",
      "Bought Date: 107/11/02 - 81.0\n",
      "Prediction: 71.9000015258789\n",
      "Profit Spread: -3.700000000000003\n",
      "\n",
      "Short Date: 107/11/02 - 81.0\n",
      "Bought Date: 107/11/30 - 71.9\n",
      "Prediction: 72.4000015258789\n",
      "Profit Spread: 9.099999999999994\n",
      "\n",
      "Bought Date: 107/11/30 - 71.9\n",
      "Sold Date: 107/12/27 - 70.8\n",
      "Prediction: 72.0\n",
      "Profit Spread: -1.1000000000000085\n",
      "\n",
      "Bought Date: 107/12/27 - 70.8\n",
      "Sold Date: 108/01/28 - 70.8\n",
      "Prediction: 72.0\n",
      "Profit Spread: 0.0\n",
      "\n",
      "Bought Date: 108/01/28 - 70.8\n",
      "Sold Date: 108/03/08 - 70.7\n",
      "Prediction: 72.0\n",
      "Profit Spread: -0.09999999999999432\n",
      "\n",
      "Bought Date: 108/03/08 - 70.7\n",
      "Sold Date: 108/04/09 - 82.5\n",
      "Prediction: 72.0\n",
      "Profit Spread: 11.799999999999997\n",
      "\n",
      "Short Date: 108/04/09 - 82.5\n",
      "Bought Date: 108/05/08 - 85.9\n",
      "Prediction: 73.6648178100586\n",
      "Profit Spread: -3.4000000000000057\n",
      "\n",
      "Year 1\n",
      "Total Costs: 12154300.0\n",
      "Initial Funds: 1000000\n",
      "Trade Times:12\n",
      "Profits: 203033.42499999815\n",
      "Return Of Rate: 1.2038999999999995\n",
      "\n",
      "\n",
      "Short Date: 108/05/08 - 85.9\n",
      "Bought Date: 108/06/05 - 71.0\n",
      "Prediction: 80.80000305175781\n",
      "Profit Spread: 14.900000000000006\n",
      "\n",
      "Bought Date: 108/06/05 - 71.0\n",
      "Sold Date: 108/07/04 - 77.7\n",
      "Prediction: 72.0\n",
      "Profit Spread: 6.700000000000003\n",
      "\n",
      "Short Date: 108/07/04 - 77.7\n",
      "Bought Date: 108/08/01 - 77.9\n",
      "Prediction: 72.0\n",
      "Profit Spread: -0.20000000000000284\n",
      "\n",
      "Short Date: 108/08/01 - 77.9\n",
      "Bought Date: 108/08/30 - 74.2\n",
      "Prediction: 72.0\n",
      "Profit Spread: 3.700000000000003\n",
      "\n",
      "Short Date: 108/08/30 - 74.2\n",
      "Bought Date: 108/10/01 - 72.6\n",
      "Prediction: 72.17779541015625\n",
      "Profit Spread: 1.6000000000000085\n",
      "\n",
      "Year 2\n",
      "Total Costs: 5584800.0\n",
      "Initial Funds: 1000000\n",
      "Trade Times:5\n",
      "Profits: 352794.22500000003\n",
      "Return Of Rate: 1.3485442250000004\n",
      "\n",
      "Average of Yearly ROR: 1.276\n"
     ]
    }
   ],
   "source": [
    "d,funds = ROR(x_step_closed,in_preds[:,0],true_step_closed,1000,short=True)\n",
    "for i in range(len(d['total_prices'])):\n",
    "    msg = 'Year {}\\nTotal Costs: {}\\nInitial Funds: {}\\nTrade Times:{}\\nProfits: {}\\nReturn Of Rate: {}\\n'.format(i+1,d['total_costs'][i],\n",
    "                                                                                    funds*1000,\n",
    "                                                                                    d['trade_times'][i],\n",
    "                                                                                     (d['total_prices'][i]-d['total_costs'][i])*0.99575,\n",
    "                                                                                     d['RORs'][i])\n",
    "    print(d['verbose'][i])\n",
    "    print(msg)\n",
    "print(\"Average of Yearly ROR: {:.3f}\".format(np.mean(d['RORs'])))"
   ]
  },
  {
   "cell_type": "code",
   "execution_count": 19,
   "metadata": {},
   "outputs": [
    {
     "name": "stdout",
     "output_type": "stream",
     "text": [
      "\n",
      "Bought Date: 107/11/30 - 71.9\n",
      "Sold Date: 107/12/27 - 70.8\n",
      "Prediction: 72.0\n",
      "Profit Spread: -1.1000000000000085\n",
      "\n",
      "Bought Date: 107/12/27 - 70.8\n",
      "Sold Date: 108/01/28 - 70.8\n",
      "Prediction: 72.0\n",
      "Profit Spread: 0.0\n",
      "\n",
      "Bought Date: 108/01/28 - 70.8\n",
      "Sold Date: 108/03/08 - 70.7\n",
      "Prediction: 72.0\n",
      "Profit Spread: -0.09999999999999432\n",
      "\n",
      "Bought Date: 108/03/08 - 70.7\n",
      "Sold Date: 108/04/09 - 82.5\n",
      "Prediction: 72.0\n",
      "Profit Spread: 11.799999999999997\n",
      "\n",
      "Year 1\n",
      "Total Costs: 3694600.0\n",
      "Initial Funds: 1000000\n",
      "Trade Times:4\n",
      "Profits: 137214.35\n",
      "Return Of Rate: 1.1378\n",
      "\n",
      "\n",
      "Bought Date: 108/06/05 - 71.0\n",
      "Sold Date: 108/07/04 - 77.7\n",
      "Prediction: 72.0\n",
      "Profit Spread: 6.700000000000003\n",
      "\n",
      "Year 2\n",
      "Total Costs: 994000.0\n",
      "Initial Funds: 1000000\n",
      "Trade Times:1\n",
      "Profits: 93401.35\n",
      "Return Of Rate: 1.0891513499999999\n",
      "\n",
      "Average of Yearly ROR: 1.113\n"
     ]
    }
   ],
   "source": [
    "d,funds = ROR(x_step_closed,in_preds[:,0],true_step_closed,1000,short=False)\n",
    "for i in range(len(d['total_prices'])):\n",
    "    msg = 'Year {}\\nTotal Costs: {}\\nInitial Funds: {}\\nTrade Times:{}\\nProfits: {}\\nReturn Of Rate: {}\\n'.format(i+1,d['total_costs'][i],\n",
    "                                                                                    funds*1000,\n",
    "                                                                                    d['trade_times'][i],\n",
    "                                                                                     (d['total_prices'][i]-d['total_costs'][i])*0.99575,\n",
    "                                                                                     d['RORs'][i])\n",
    "    print(d['verbose'][i])\n",
    "    print(msg)\n",
    "print(\"Average of Yearly ROR: {:.3f}\".format(np.mean(d['RORs'])))"
   ]
  },
  {
   "cell_type": "code",
   "execution_count": 24,
   "metadata": {},
   "outputs": [
    {
     "name": "stdout",
     "output_type": "stream",
     "text": [
      "0.5294117647058824\n"
     ]
    }
   ],
   "source": [
    "right = []\n",
    "for i in range(len(x_step_closed)):\n",
    "    a = 0\n",
    "    b = 0\n",
    "    if x_step_closed[i] < in_preds[:,0][i]:\n",
    "        a = 1\n",
    "    if x_step_closed[i] < true_step_closed[i]:\n",
    "        b = 1\n",
    "    if a==b:\n",
    "        right.append(1)\n",
    "    else:\n",
    "        right.append(0)\n",
    "print(np.mean(right))"
   ]
  },
  {
   "cell_type": "code",
   "execution_count": null,
   "metadata": {},
   "outputs": [],
   "source": []
  }
 ],
 "metadata": {
  "kernelspec": {
   "display_name": "Python 3",
   "language": "python",
   "name": "python3"
  },
  "language_info": {
   "codemirror_mode": {
    "name": "ipython",
    "version": 3
   },
   "file_extension": ".py",
   "mimetype": "text/x-python",
   "name": "python",
   "nbconvert_exporter": "python",
   "pygments_lexer": "ipython3",
   "version": "3.6.5"
  }
 },
 "nbformat": 4,
 "nbformat_minor": 2
}
