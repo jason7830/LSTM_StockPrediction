{
 "cells": [
  {
   "cell_type": "code",
   "execution_count": 16,
   "metadata": {},
   "outputs": [],
   "source": [
    "from sklearn.preprocessing import MinMaxScaler\n",
    "from sklearn.metrics import r2_score\n",
    "from keras.models import Sequential\n",
    "from keras.layers import LSTM, Activation, Dense , Dropout\n",
    "from keras.optimizers import Adam,SGD\n",
    "from keras.callbacks import EarlyStopping , LearningRateScheduler\n",
    "import keras.backend as K\n",
    "from keras.initializers import RandomUniform\n",
    "from keras import metrics , regularizers\n",
    "import numpy as np\n",
    "import pandas as pd\n",
    "import matplotlib.pyplot as plt\n",
    "import tensorflow as tf\n"
   ]
  },
  {
   "cell_type": "code",
   "execution_count": 17,
   "metadata": {},
   "outputs": [
    {
     "name": "stdout",
     "output_type": "stream",
     "text": [
      "(6628, 10)\n"
     ]
    }
   ],
   "source": [
    "def splitData(X,rate):\n",
    "    train = X[:int(X.shape[0]*rate)]\n",
    "    val = X[int(X.shape[0]*rate):]\n",
    "    return train, val\n",
    "\n",
    "def periods(data,days,data_date=None,f_days=5):\n",
    "    y = []\n",
    "    x = []\n",
    "    p_dates = []\n",
    "    for i in range(0,len(data),days):\n",
    "        if i+days+f_days>=len(data)-1:\n",
    "            break\n",
    "        x.append(data[i:i+days])\n",
    "        if type(data_date) != type(None):\n",
    "            p_dates.append(data_date[i:i+days])\n",
    "            #print(p_dates[-1])\n",
    "        if data[i+days+f_days][0] > data[i+days-1][0]:\n",
    "            y.append(1)\n",
    "        else:\n",
    "            y.append(0)\n",
    "        #print(data_date[i+days-1],data_date[i+days+f_days])\n",
    "    return np.array(x),np.array(y),p_dates\n",
    "def unperiods(data,days):\n",
    "    l = []\n",
    "    for a in data:\n",
    "        l.extend(a)\n",
    "    return l\n",
    "df = pd.read_csv(\"data/indicators/2330_indicators.csv\").drop(range(11))\n",
    "print(np.array(df.values).shape)"
   ]
  },
  {
   "cell_type": "code",
   "execution_count": 18,
   "metadata": {},
   "outputs": [
    {
     "name": "stdout",
     "output_type": "stream",
     "text": [
      "(331, 20, 9)\n"
     ]
    }
   ],
   "source": [
    "p_days = 20\n",
    "sc = MinMaxScaler()\n",
    "#移除前11筆因累積計算技術指標為0\n",
    "data_sc = sc.fit_transform(df.drop(['date'],axis=1).values)\n",
    "x,y,p_dates = periods(data_sc,p_days,df.iloc[:,[0]].values)\n",
    "print(x.shape)\n",
    "X_train , X_val = splitData(x,0.8)\n",
    "Y_train , Y_val = splitData(y,0.8)\n",
    "xx,pd = splitData(np.array(p_dates),0.8)\n",
    "p_date = unperiods(pd,p_days)"
   ]
  },
  {
   "cell_type": "code",
   "execution_count": 19,
   "metadata": {},
   "outputs": [
    {
     "name": "stdout",
     "output_type": "stream",
     "text": [
      "Model: \"sequential_3\"\n",
      "_________________________________________________________________\n",
      "Layer (type)                 Output Shape              Param #   \n",
      "=================================================================\n",
      "lstm_7 (LSTM)                (None, 20, 32)            5376      \n",
      "_________________________________________________________________\n",
      "lstm_8 (LSTM)                (None, 20, 32)            8320      \n",
      "_________________________________________________________________\n",
      "lstm_9 (LSTM)                (None, 32)                8320      \n",
      "_________________________________________________________________\n",
      "dropout_3 (Dropout)          (None, 32)                0         \n",
      "_________________________________________________________________\n",
      "dense_3 (Dense)              (None, 1)                 33        \n",
      "=================================================================\n",
      "Total params: 22,049\n",
      "Trainable params: 22,049\n",
      "Non-trainable params: 0\n",
      "_________________________________________________________________\n"
     ]
    }
   ],
   "source": [
    "epochs = 380\n",
    "batch_size = 16\n",
    "LSTM_num = 3\n",
    "units = 32\n",
    "\n",
    "model_lstm = Sequential()\n",
    "#use L2 to improve overfit\n",
    "model_lstm.add(LSTM(units,input_shape=X_train.shape[1:],activation='relu',kernel_initializer='random_uniform',return_sequences=True)) \n",
    "#model_lstm.add(Dropout(0.1))\n",
    "\n",
    "model_lstm.add(LSTM(units,activation='relu',return_sequences=True))\n",
    "#model_lstm.add(Dropout(0.001))\n",
    "\n",
    "model_lstm.add(LSTM(units,activation='relu',return_sequences=False))\n",
    "model_lstm.add(Dropout(0.1))\n",
    "\n",
    "model_lstm.add(Dense(1,activation='sigmoid'))\n",
    "model_lstm.summary()\n",
    "model_lstm.compile(loss='binary_crossentropy',optimizer=\"Adam\",metrics=['acc'])"
   ]
  },
  {
   "cell_type": "code",
   "execution_count": 20,
   "metadata": {
    "scrolled": true
   },
   "outputs": [
    {
     "name": "stdout",
     "output_type": "stream",
     "text": [
      "Train on 264 samples, validate on 67 samples\n",
      "Epoch 1/380\n",
      "264/264 [==============================] - 2s 6ms/step - loss: 0.6933 - acc: 0.4735 - val_loss: 0.6932 - val_acc: 0.4925\n",
      "Epoch 2/380\n",
      "264/264 [==============================] - 0s 2ms/step - loss: 0.6931 - acc: 0.5076 - val_loss: 0.6932 - val_acc: 0.5075\n",
      "Epoch 3/380\n",
      "264/264 [==============================] - 0s 2ms/step - loss: 0.6935 - acc: 0.5076 - val_loss: 0.6932 - val_acc: 0.5075\n",
      "Epoch 4/380\n",
      "264/264 [==============================] - 0s 2ms/step - loss: 0.6931 - acc: 0.5038 - val_loss: 0.6932 - val_acc: 0.5075\n",
      "Epoch 5/380\n",
      "264/264 [==============================] - 0s 2ms/step - loss: 0.6930 - acc: 0.5076 - val_loss: 0.6933 - val_acc: 0.5075\n",
      "Epoch 6/380\n",
      "264/264 [==============================] - 0s 2ms/step - loss: 0.6936 - acc: 0.5038 - val_loss: 0.6934 - val_acc: 0.5075\n",
      "Epoch 7/380\n",
      "264/264 [==============================] - 0s 2ms/step - loss: 0.6932 - acc: 0.4848 - val_loss: 0.6934 - val_acc: 0.4776\n",
      "Epoch 8/380\n",
      "264/264 [==============================] - 0s 2ms/step - loss: 0.6930 - acc: 0.5038 - val_loss: 0.6934 - val_acc: 0.4925\n",
      "Epoch 9/380\n",
      "264/264 [==============================] - 0s 2ms/step - loss: 0.6931 - acc: 0.5076 - val_loss: 0.6934 - val_acc: 0.4925\n",
      "Epoch 10/380\n",
      "264/264 [==============================] - 0s 2ms/step - loss: 0.6927 - acc: 0.5038 - val_loss: 0.6934 - val_acc: 0.5075\n",
      "Epoch 11/380\n",
      "264/264 [==============================] - 0s 2ms/step - loss: 0.6934 - acc: 0.5076 - val_loss: 0.6937 - val_acc: 0.4627\n",
      "Epoch 12/380\n",
      "264/264 [==============================] - 0s 2ms/step - loss: 0.6931 - acc: 0.5114 - val_loss: 0.6941 - val_acc: 0.5075\n",
      "Epoch 13/380\n",
      "264/264 [==============================] - 0s 2ms/step - loss: 0.6931 - acc: 0.5114 - val_loss: 0.6942 - val_acc: 0.4627\n",
      "Epoch 14/380\n",
      "264/264 [==============================] - 0s 2ms/step - loss: 0.6931 - acc: 0.4924 - val_loss: 0.7073 - val_acc: 0.4925\n",
      "Epoch 15/380\n",
      "264/264 [==============================] - 0s 2ms/step - loss: 0.6930 - acc: 0.5038 - val_loss: 0.6948 - val_acc: 0.4627\n",
      "Epoch 16/380\n",
      "264/264 [==============================] - 0s 2ms/step - loss: 0.6928 - acc: 0.5152 - val_loss: 0.6955 - val_acc: 0.4627\n",
      "Epoch 17/380\n",
      "264/264 [==============================] - 0s 2ms/step - loss: 0.6926 - acc: 0.5265 - val_loss: 0.7000 - val_acc: 0.5075\n",
      "Epoch 18/380\n",
      "264/264 [==============================] - 0s 2ms/step - loss: 0.6927 - acc: 0.5076 - val_loss: 0.7437 - val_acc: 0.4925\n",
      "Epoch 19/380\n",
      "264/264 [==============================] - 0s 2ms/step - loss: 0.6919 - acc: 0.5417 - val_loss: 0.7044 - val_acc: 0.4627\n",
      "Epoch 20/380\n",
      "264/264 [==============================] - 0s 2ms/step - loss: 0.6923 - acc: 0.5114 - val_loss: 0.9510 - val_acc: 0.5075\n",
      "Epoch 21/380\n",
      "264/264 [==============================] - 0s 2ms/step - loss: 0.6929 - acc: 0.5076 - val_loss: 0.6992 - val_acc: 0.4925\n",
      "Epoch 22/380\n",
      "264/264 [==============================] - 0s 2ms/step - loss: 0.6935 - acc: 0.4924 - val_loss: 0.7032 - val_acc: 0.4627\n",
      "Epoch 00022: early stopping\n"
     ]
    }
   ],
   "source": [
    "#decay lr by half every 10 epoch\n",
    "#lrate = LearningRateScheduler(step_decay)\n",
    "early_stop = EarlyStopping(monitor='val_loss', patience=20, verbose=1)\n",
    "history = model_lstm.fit(X_train, Y_train, epochs=epochs, batch_size=batch_size, shuffle=False,validation_data=(X_val,Y_val),callbacks=[early_stop])\n",
    "y_pred_test_lstm = model_lstm.predict(X_val)\n",
    "y_train_pred_lstm = model_lstm.predict(X_train)"
   ]
  },
  {
   "cell_type": "code",
   "execution_count": 21,
   "metadata": {},
   "outputs": [
    {
     "name": "stdout",
     "output_type": "stream",
     "text": [
      "0.4898236082358794\n"
     ]
    }
   ],
   "source": [
    "y_preds= model_lstm.predict(X_val)\n",
    "print(np.mean(history.history['val_acc']))\n",
    "#accuracy when the predictions which is bigger than threshold and equal to y\n",
    "def acc_threshold(preds,rate):\n",
    "    re = []\n",
    "    for i,y in enumerate(preds):\n",
    "        if y > rate:\n",
    "            y=1\n",
    "        else:\n",
    "            y=0\n",
    "        if Y_val[i]==y:\n",
    "            re.append(1)\n",
    "        else:\n",
    "            re.append(0)\n",
    "    return np.mean(re)\n"
   ]
  },
  {
   "cell_type": "code",
   "execution_count": 22,
   "metadata": {},
   "outputs": [
    {
     "data": {
      "image/png": "[encoded data removed]",
      "text/plain": [
       "<Figure size 432x288 with 1 Axes>"
      ]
     },
     "metadata": {
      "needs_background": "light"
     },
     "output_type": "display_data"
    }
   ],
   "source": [
    "thresholds = []\n",
    "for i in np.arange(0.5,1,0.05):\n",
    "    thresholds.append(np.round(acc_threshold(y_preds,i),decimals=2))\n",
    "\n",
    "plt.figure(1)\n",
    "plt.subplot(211)\n",
    "plt.plot(np.arange(0.5,1,0.05),thresholds,'b',label='Thresholds')\n",
    "plt.title('Accuracy by threshold',)\n",
    "plt.xlabel('Threshold')\n",
    "plt.ylabel('Rate')\n",
    "plt.legend(loc='best')\n",
    "\n",
    "\n",
    "plt.grid(True)"
   ]
  },
  {
   "cell_type": "code",
   "execution_count": 8,
   "metadata": {},
   "outputs": [],
   "source": [
    "\"\"\"Rate Of Return\n",
    "x: trended data\n",
    "y: predictions\n",
    "r: trade if y > r\n",
    "p: period\n",
    "s: short if y < r\n",
    "\"\"\"\n",
    "def ROR(x,y,r,p,init_funds,s=False):\n",
    "    dict_Info = {\n",
    "        'total_costs':[],\n",
    "        'total_prices':[],\n",
    "        'trade_times':[],\n",
    "        'date_msg':[],\n",
    "        \"RORs\":[]\n",
    "    }\n",
    "    funds = init_funds\n",
    "    profit=0\n",
    "    total_cost=0\n",
    "    total_price=0\n",
    "    acc = []\n",
    "    times = 0\n",
    "    d_msg = ''\n",
    "    for i,pre in enumerate(y[:-1]):\n",
    "        price = x[(i+1)*p_days][0]\n",
    "        cost = x[i*p_days][0]\n",
    "        quantity = int(funds/cost)\n",
    "        if pre>r:\n",
    "            times+=1\n",
    "            total_cost+= cost * quantity\n",
    "            total_price+= price  * quantity\n",
    "            funds+= (price-cost)*quantity            \n",
    "            d_msg += \"\\nBuy Date: {} - {}\\nSell Date: {} - {}\\nQuantity: {}\\n\".format(p_date[i*p_days],cost,p_date[(i+1)*p_days],price,quantity)\n",
    "            if price > cost:\n",
    "                acc.append(1)\n",
    "            else:\n",
    "                acc.append(0)\n",
    "        elif s:\n",
    "            times+=1\n",
    "            total_cost+= price * quantity\n",
    "            total_price+= cost * quantity\n",
    "            funds+= (cost-price) * quantity\n",
    "            pass\n",
    "        if (i+1)%p==0:\n",
    "            #pass and not record the rate of prediciotn 'pre' < rate of threshold 'r'\n",
    "            if total_cost != 0:\n",
    "                dict_Info['total_costs'].append(total_cost*1000)\n",
    "                dict_Info['total_prices'].append(total_price*1000)\n",
    "                dict_Info['trade_times'].append(times)\n",
    "                dict_Info['date_msg'].append(d_msg)\n",
    "                dict_Info['RORs'].append((funds)/init_funds)\n",
    "            times=0\n",
    "            funds = init_funds\n",
    "            total_cost=0\n",
    "            total_price=0\n",
    "            d_msg = ''\n",
    "    #in case that dont have enough tra\n",
    "    if len(dict_Info['RORs']) ==0:\n",
    "        dict_Info['total_costs'].append(total_cost*1000)\n",
    "        dict_Info['total_prices'].append(total_price*1000)\n",
    "        dict_Info['trade_times'].append(times)\n",
    "        dict_Info['date_msg'].append(d_msg)\n",
    "        dict_Info['RORs'].append((funds)/init_funds)\n",
    "    if len(acc) == 0:\n",
    "        return 'No Deals.'\n",
    "    print(\"Trend Accuracy:\",np.mean(acc))\n",
    "    return dict_Info,init_funds"
   ]
  },
  {
   "cell_type": "code",
   "execution_count": 9,
   "metadata": {
    "scrolled": false
   },
   "outputs": [
    {
     "ename": "ValueError",
     "evalue": "too many values to unpack (expected 2)",
     "output_type": "error",
     "traceback": [
      "\u001b[0;31m---------------------------------------------------------------------------\u001b[0m",
      "\u001b[0;31mValueError\u001b[0m                                Traceback (most recent call last)",
      "\u001b[0;32m<ipython-input-9-17b1333cc899>\u001b[0m in \u001b[0;36m<module>\u001b[0;34m\u001b[0m\n\u001b[0;32m----> 1\u001b[0;31m \u001b[0md\u001b[0m\u001b[0;34m,\u001b[0m\u001b[0mfunds\u001b[0m \u001b[0;34m=\u001b[0m \u001b[0mROR\u001b[0m\u001b[0;34m(\u001b[0m\u001b[0msc\u001b[0m\u001b[0;34m.\u001b[0m\u001b[0minverse_transform\u001b[0m\u001b[0;34m(\u001b[0m\u001b[0munperiods\u001b[0m\u001b[0;34m(\u001b[0m\u001b[0mX_val\u001b[0m\u001b[0;34m,\u001b[0m\u001b[0mp_days\u001b[0m\u001b[0;34m)\u001b[0m\u001b[0;34m)\u001b[0m\u001b[0;34m,\u001b[0m\u001b[0my_pred_test_lstm\u001b[0m\u001b[0;34m,\u001b[0m\u001b[0;36m0.5\u001b[0m\u001b[0;34m,\u001b[0m\u001b[0;36m12\u001b[0m\u001b[0;34m,\u001b[0m\u001b[0;36m1000\u001b[0m\u001b[0;34m)\u001b[0m\u001b[0;34m\u001b[0m\u001b[0;34m\u001b[0m\u001b[0m\n\u001b[0m\u001b[1;32m      2\u001b[0m \u001b[0;34m\u001b[0m\u001b[0m\n\u001b[1;32m      3\u001b[0m \u001b[0;32mfor\u001b[0m \u001b[0mi\u001b[0m \u001b[0;32min\u001b[0m \u001b[0mrange\u001b[0m\u001b[0;34m(\u001b[0m\u001b[0mlen\u001b[0m\u001b[0;34m(\u001b[0m\u001b[0md\u001b[0m\u001b[0;34m[\u001b[0m\u001b[0;34m'RORs'\u001b[0m\u001b[0;34m]\u001b[0m\u001b[0;34m)\u001b[0m\u001b[0;34m)\u001b[0m\u001b[0;34m:\u001b[0m\u001b[0;34m\u001b[0m\u001b[0;34m\u001b[0m\u001b[0m\n\u001b[1;32m      4\u001b[0m     msg = '{}\\nTotal Costs: {}\\nTrade Times: {}\\nInitial Funds: {}\\nProfits: {}\\nReturn Of Rate: {}\\n'.format(d['date_msg'][i],\n\u001b[1;32m      5\u001b[0m                                                                                     \u001b[0md\u001b[0m\u001b[0;34m[\u001b[0m\u001b[0;34m'total_costs'\u001b[0m\u001b[0;34m]\u001b[0m\u001b[0;34m[\u001b[0m\u001b[0mi\u001b[0m\u001b[0;34m]\u001b[0m\u001b[0;34m,\u001b[0m\u001b[0;34m\u001b[0m\u001b[0;34m\u001b[0m\u001b[0m\n",
      "\u001b[0;31mValueError\u001b[0m: too many values to unpack (expected 2)"
     ]
    }
   ],
   "source": [
    "d,funds = ROR(sc.inverse_transform(unperiods(X_val,p_days)),y_pred_test_lstm,0.5,12,1000)\n",
    "\n",
    "for i in range(len(d['RORs'])):\n",
    "    msg = '{}\\nTotal Costs: {}\\nTrade Times: {}\\nInitial Funds: {}\\nProfits: {}\\nReturn Of Rate: {}\\n'.format(d['date_msg'][i],\n",
    "                                                                                    d['total_costs'][i],\n",
    "                                                                                     d['trade_times'][i],\n",
    "                                                                                    funds*1000,\n",
    "                                                                                     d['total_prices'][i]-d['total_costs'][i],\n",
    "                                                                                     d['RORs'][i])\n",
    "    print(msg)\n",
    "print(\"Average of Years ROR: {:.3f}\".format(np.mean(d['RORs'])))\n",
    "#print(\"Total cost: {:.2f}\\nProfits:{:.2f}\\nReturn of Rate:{:.2f}\".format(t,p,p/t*100))"
   ]
  },
  {
   "cell_type": "code",
   "execution_count": null,
   "metadata": {},
   "outputs": [],
   "source": []
  },
  {
   "cell_type": "code",
   "execution_count": null,
   "metadata": {},
   "outputs": [],
   "source": []
  }
 ],
 "metadata": {
  "kernelspec": {
   "display_name": "Python 3",
   "language": "python",
   "name": "python3"
  },
  "language_info": {
   "codemirror_mode": {
    "name": "ipython",
    "version": 3
   },
   "file_extension": ".py",
   "mimetype": "text/x-python",
   "name": "python",
   "nbconvert_exporter": "python",
   "pygments_lexer": "ipython3",
   "version": "3.7.3"
  }
 },
 "nbformat": 4,
 "nbformat_minor": 2
}
