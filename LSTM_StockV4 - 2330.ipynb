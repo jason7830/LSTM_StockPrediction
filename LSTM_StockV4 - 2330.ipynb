{
 "cells": [
  {
   "cell_type": "code",
   "execution_count": 2,
   "metadata": {},
   "outputs": [
    {
     "name": "stderr",
     "output_type": "stream",
     "text": [
      "Using TensorFlow backend.\n"
     ]
    }
   ],
   "source": [
    "from sklearn.preprocessing import MinMaxScaler , StandardScaler , QuantileTransformer , normalize\n",
    "from lib.Model import Model\n",
    "from keras.layers.advanced_activations import LeakyReLU\n",
    "from keras.layers import LSTM, Dense, Dropout, Input, Concatenate\n",
    "from keras.optimizers import Adam\n",
    "from keras.callbacks import EarlyStopping , ModelCheckpoint\n",
    "from keras import metrics, regularizers\n",
    "import pandas as pd\n",
    "import numpy as np\n",
    "from numpy import newaxis\n",
    "import matplotlib.pyplot as plt\n",
    "import datetime as dt\n",
    "import csv\n",
    "import re\n",
    "from lib.DataProcess import Data\n",
    "import math"
   ]
  },
  {
   "cell_type": "code",
   "execution_count": 37,
   "metadata": {},
   "outputs": [],
   "source": [
    "def load_chips(file):\n",
    "    with open(file,'r',encoding='utf-8') as f:\n",
    "        reader = csv.reader(f)\n",
    "        chips = []\n",
    "        for r in reader:\n",
    "            r = np.array(r)\n",
    "            if len(r) == 18:\n",
    "                chips.append(r[[1,2,3,7,8,9,13,11,12,17]])\n",
    "            if len(r) == 15:\n",
    "                chips.append(r[[1,2,3,4,5,6,10,8,9,14]])\n",
    "            if len(r) == 11:\n",
    "                chips.append(r[1:])\n",
    "    return chips\n",
    "def minguo2Date(ming):\n",
    "    y , m , d = ming.split('/')\n",
    "    return str(int(y)+1911)+m+d\n",
    "\n",
    "step = 20\n",
    "units = 64\n",
    "epochs = 500\n",
    "batch_size = 256\n",
    "stock_no = '2330'\n",
    "model = Model()\n",
    "model.add_saveinfo(stock=stock_no,exinfo=' steps-{}'.format(step))\n",
    "early_stop = EarlyStopping(monitor='val_dense_1_loss', patience=20)\n",
    "model_cp = ModelCheckpoint(\"save/{}.cp\".format(dt.datetime.now().strftime('%Y-%m-%d_%H.%M')),monitor='val_dense_1_loss',save_best_only=True)\n",
    "\n",
    "df = pd.read_csv('data/indicators/{}_indicators.csv'.format(stock_no))\n",
    "df_chips = pd.DataFrame(load_chips('data/chips/chips_{}.csv'.format(stock_no)))\n",
    "index=0\n",
    "for i,d in enumerate(df.iloc[:,0].values):\n",
    "    if minguo2Date(d) == '20120502':\n",
    "        index = i\n",
    "df = df[index:].reset_index(drop=True)\n",
    "df = pd.concat([df,df_chips],axis=1)\n",
    "df.drop(np.arange(33).tolist())\n",
    "#get dates\n",
    "dates = Data(0.8,np.array(df.get(['date']).values),type=2)\n",
    "dates_train = dates.data_steps(dates.data_train,step)\n",
    "dates_train_x , dates_train_y = dates.get_x_y(dates_train)\n",
    "dates_val = dates.data_steps(dates.data_val,step)\n",
    "dates_val_x , dates_val_y = dates.get_x_y(dates_val)\n",
    "\n",
    "df = df.drop('date',axis=1)\n",
    "mms = QuantileTransformer()\n",
    "sc_data = mms.fit_transform(df.values)\n",
    "x_trains= []\n",
    "y_trains = []\n",
    "x_vals = []\n",
    "y_vals = []\n",
    "historys = []\n",
    "for i in range(sc_data.shape[1]):\n",
    "    d = Data(0.8,sc_data[:,i],type=2)\n",
    "    xt , yt = d.get_train(step,is_normalised=True,if_single_col=True)\n",
    "    xv , yv = d.get_val(step,is_normalised=True,if_single_col=True)\n",
    "    x_trains.append(xt[:,:,newaxis])\n",
    "    y_trains.append(yt)\n",
    "    x_vals.append(xv[:,:,newaxis])\n",
    "    y_vals.append(yv)"
   ]
  },
  {
   "cell_type": "code",
   "execution_count": null,
   "metadata": {},
   "outputs": [],
   "source": [
    "for i in range(len(x_trains)):\n",
    "    model.addIOLayer(Input(shape=(step-1,1)),Dense(1,activation='relu'))\n",
    "model.addLayer(LSTM(units,activation='relu',kernel_regularizer = regularizers.l2(0.01),return_sequences=True))\n",
    "model.addLayer(LSTM(units,kernel_regularizer = regularizers.l2(0.01),return_sequences=True))\n",
    "model.addLayer(LSTM(units,kernel_regularizer = regularizers.l2(0.01),return_sequences=True))\n",
    "model.addLayer(LSTM(units,kernel_regularizer = regularizers.l2(0.01),return_sequences=False))\n",
    "model.build_model(loss='mean_squared_error',optimizer='Adam')\n",
    "model.model.summary()"
   ]
  },
  {
   "cell_type": "code",
   "execution_count": null,
   "metadata": {
    "scrolled": true
   },
   "outputs": [],
   "source": [
    "#model.train(x_trains,y_trains,x_vals,y_vals,epochs,batch_size,shuffle=False,callbacks=[early_stop,model_cp])\n",
    "\n",
    "train_gen = Data.generate_train_batch(x_trains,y_trains,batch_size=batch_size,is_multi_windows=True)\n",
    "train_steps_per_epoch = math.ceil((np.array(x_trains).shape[1] - step) / batch_size)\n",
    "val_gen = Data.generate_train_batch(x_vals,y_vals,batch_size=batch_size,is_multi_windows=True)\n",
    "val_steps_per_epoch = math.ceil((np.array(x_vals).shape[1] - step) / batch_size)\n",
    "model.train_generator(train_gen,train_steps_per_epoch,val_gen,val_steps_per_epoch,epochs,callbacks=[early_stop,model_cp])"
   ]
  },
  {
   "cell_type": "code",
   "execution_count": null,
   "metadata": {},
   "outputs": [],
   "source": [
    "historys.extend(model.history.history['val_dense_1_loss'])\n",
    "plt.plot(historys,label='closed_loss')\n",
    "plt.legend()\n",
    "plt.xlabel(\"epochs\")\n",
    "plt.ylabel(\"loss\")\n",
    "plt.savefig(model.save_path+'png',dpi=200)\n",
    "plt.show()"
   ]
  },
  {
   "cell_type": "code",
   "execution_count": 5,
   "metadata": {},
   "outputs": [
    {
     "name": "stdout",
     "output_type": "stream",
     "text": [
      "Predicting recursively ... (window: 17/17) \r"
     ]
    }
   ],
   "source": [
    "#model = Model(load='save/2019-10-16_12.24 stock-2330 steps-20.h5')\n",
    "preds = model.predict_recurrent(x_vals,20,True)\n",
    "ps = model.model.predict(x_vals)"
   ]
  },
  {
   "cell_type": "code",
   "execution_count": 13,
   "metadata": {},
   "outputs": [
    {
     "name": "stdout",
     "output_type": "stream",
     "text": [
      "Figure saved [2019-10-16_16.47 stock-2330 steps-20.png].\n"
     ]
    },
    {
     "data": {
      "image/png": "[encoded data removed]",
      "text/plain": [
       "<Figure size 432x288 with 1 Axes>"
      ]
     },
     "metadata": {
      "needs_background": "light"
     },
     "output_type": "display_data"
    }
   ],
   "source": [
    "model.plot_recurrent_results(preds,y_vals,20,multi_io=True,show_legend=False,target_index=0,save=True)"
   ]
  },
  {
   "cell_type": "code",
   "execution_count": 12,
   "metadata": {},
   "outputs": [
    {
     "name": "stdout",
     "output_type": "stream",
     "text": [
      "Average Errors: 0.026996228333461006\n"
     ]
    },
    {
     "data": {
      "image/png": "[encoded data removed]",
      "text/plain": [
       "<Figure size 432x288 with 1 Axes>"
      ]
     },
     "metadata": {
      "needs_background": "light"
     },
     "output_type": "display_data"
    }
   ],
   "source": [
    "in_x_vals = mms.inverse_transform(np.array(x_vals)[:,:,-1,0].T)\n",
    "in_ps = mms.inverse_transform(np.array(ps)[:,:,0].T)\n",
    "in_preds = mms.inverse_transform(np.array(preds)[:,-1,:,0])\n",
    "in_y_vals = mms.inverse_transform(np.array(y_vals)[:,:,0].T)\n",
    "\n",
    "pre_closed = in_ps[:,0]\n",
    "#origin x prices\n",
    "x_closed = in_x_vals[:,0]\n",
    "true_closed = in_y_vals[:,0]\n",
    "#the last day of each window\n",
    "dates_step_last = dates_val_x[:,-1,0]\n",
    "true_step_closed = []\n",
    "pre_step_closed = []\n",
    "x_step_closed = []\n",
    "dates_x_step = []\n",
    "dates_y_step = []\n",
    "for i in range(0,int(len(x_closed)/step)):\n",
    "    x_step_closed.append(x_closed[i*step])\n",
    "    dates_x_step.append(dates_step_last[i*step])\n",
    "    true_step_closed.append(true_closed[(i+1)*step-1])\n",
    "    pre_step_closed.append(pre_closed[(i+1)*step-1])\n",
    "    dates_y_step.append(dates_val_y[(i+1)*step-1,0])\n",
    "\n",
    "avg_error = np.mean(np.abs(pre_closed-true_closed)/true_closed)\n",
    "print(\"Average Errors:\",avg_error)\n",
    "\n",
    "plt.plot(in_ps[:,0],label='Predictions')\n",
    "plt.plot(in_y_vals[:,0],label='Real')\n",
    "plt.title('Stock '+stock_no)\n",
    "plt.xlabel('Index')\n",
    "plt.ylabel('Price')\n",
    "plt.text(plt.xlim()[1]*0.3,plt.ylim()[1]*0.988,'Average Errors: {:0.2f}%'.format(avg_error*100))\n",
    "plt.legend(loc='best')\n",
    "plt.savefig('save/figs/avg_error/{}.png'.format(model.save_path[5:]),dpi=200)\n",
    "plt.show()"
   ]
  },
  {
   "cell_type": "code",
   "execution_count": 35,
   "metadata": {},
   "outputs": [],
   "source": [
    "#sr: spread rate\n",
    "def ROR(prices,preds,real,init_funds,period=12,sr=0.000,short=False):\n",
    "    dict_Info = {\n",
    "        'total_costs':[],\n",
    "        'total_prices':[],\n",
    "        'trade_times':[],\n",
    "        'verbose':[],\n",
    "        \"RORs\":[]\n",
    "    }\n",
    "    funds = init_funds\n",
    "    profit=0\n",
    "    total_cost=0\n",
    "    total_price=0\n",
    "    acc = []\n",
    "    times = 0\n",
    "    verbose = ''\n",
    "    for i,p in enumerate(real):\n",
    "        if preds[i]>prices[i] and (abs(preds[i]-prices[i])/prices[i]) > sr:\n",
    "            times +=1\n",
    "            quantity = int(funds / prices[i])\n",
    "            total_cost += prices[i] * quantity\n",
    "            total_price += p * quantity\n",
    "            funds += (p-prices[i]) * quantity\n",
    "            verbose += \"\\nBought Date: {} - {}\\nSold Date: {} - {}\\nPrediction: {}\\nProfit Spread: {}\\n\".format(dates_x_step[i],prices[i],dates_y_step[i],p,preds[i],p-prices[i])\n",
    "        elif short:\n",
    "            times +=1\n",
    "            quantity = int(funds / prices[i])\n",
    "            total_price += prices[i] * quantity\n",
    "            total_cost += p * quantity\n",
    "            funds += (prices[i]-p) * quantity\n",
    "            verbose += \"\\nShort Date: {} - {}\\nBought Date: {} - {}\\nPrediction: {}\\nProfit Spread: {}\\n\".format(dates_x_step[i],prices[i],dates_y_step[i],p,preds[i],prices[i]-p)\n",
    "        if (i+1)%period==0:\n",
    "            #pass and not record the rate of prediciotn 'pre' < rate of threshold 'r'\n",
    "            if total_cost != 0:\n",
    "                dict_Info['total_costs'].append(total_cost*1000)\n",
    "                dict_Info['total_prices'].append(total_price*1000)\n",
    "                dict_Info['trade_times'].append(times)\n",
    "                dict_Info['verbose'].append(verbose)\n",
    "                dict_Info['RORs'].append((funds)/init_funds)\n",
    "            times=0\n",
    "            funds = init_funds\n",
    "            total_cost=0\n",
    "            total_price=0\n",
    "            verbose = ''\n",
    "    if times!=0:\n",
    "        dict_Info['total_costs'].append(total_cost*1000)\n",
    "        dict_Info['total_prices'].append(total_price*1000)\n",
    "        dict_Info['trade_times'].append(times)\n",
    "        dict_Info['verbose'].append(verbose)\n",
    "        #exclude 0.00425%. including tax and trading fee\n",
    "        dict_Info['RORs'].append((funds)/init_funds*0.99575)\n",
    "    return dict_Info,init_funds"
   ]
  },
  {
   "cell_type": "code",
   "execution_count": 31,
   "metadata": {},
   "outputs": [
    {
     "name": "stdout",
     "output_type": "stream",
     "text": [
      "\n",
      "Short Date: 107/05/11 - 233.0\n",
      "Bought Date: 107/06/08 - 227.0\n",
      "Prediction: 231.0\n",
      "Profit Spread: 6.0\n",
      "\n",
      "Bought Date: 107/06/08 - 227.0\n",
      "Sold Date: 107/07/09 - 221.5\n",
      "Prediction: 232.50216674804688\n",
      "Profit Spread: -5.5\n",
      "\n",
      "Short Date: 107/07/09 - 221.5\n",
      "Bought Date: 107/08/06 - 245.5\n",
      "Prediction: 221.08709716796875\n",
      "Profit Spread: -24.0\n",
      "\n",
      "Bought Date: 107/08/06 - 245.5\n",
      "Sold Date: 107/09/03 - 257.0\n",
      "Prediction: 246.5\n",
      "Profit Spread: 11.5\n",
      "\n",
      "Short Date: 107/09/03 - 257.0\n",
      "Bought Date: 107/10/02 - 257.5\n",
      "Prediction: 253.0\n",
      "Profit Spread: -0.5\n",
      "\n",
      "Bought Date: 107/10/02 - 257.5\n",
      "Sold Date: 107/10/31 - 234.0\n",
      "Prediction: 260.0\n",
      "Profit Spread: -23.5\n",
      "\n",
      "Short Date: 107/10/31 - 234.0\n",
      "Bought Date: 107/11/28 - 226.5\n",
      "Prediction: 232.98106384277344\n",
      "Profit Spread: 7.5\n",
      "\n",
      "Bought Date: 107/11/28 - 226.5\n",
      "Sold Date: 107/12/25 - 217.5\n",
      "Prediction: 227.5\n",
      "Profit Spread: -9.0\n",
      "\n",
      "Bought Date: 107/12/25 - 217.5\n",
      "Sold Date: 108/01/24 - 222.5\n",
      "Prediction: 226.85476684570312\n",
      "Profit Spread: 5.0\n",
      "\n",
      "Bought Date: 108/01/24 - 222.5\n",
      "Sold Date: 108/03/06 - 234.0\n",
      "Prediction: 225.0\n",
      "Profit Spread: 11.5\n",
      "\n",
      "Bought Date: 108/03/06 - 234.0\n",
      "Sold Date: 108/04/03 - 246.5\n",
      "Prediction: 239.36984252929688\n",
      "Profit Spread: 12.5\n",
      "\n",
      "Bought Date: 108/04/03 - 246.5\n",
      "Sold Date: 108/05/06 - 259.0\n",
      "Prediction: 246.5132293701172\n",
      "Profit Spread: 12.5\n",
      "\n",
      "Year 1\n",
      "Total Costs: 9200000.0\n",
      "Initial Funds: 1000000\n",
      "Trade Times:12\n",
      "Profits: -11451.125\n",
      "Return Of Rate: 0.9885\n",
      "\n",
      "\n",
      "Bought Date: 108/05/06 - 259.0\n",
      "Sold Date: 108/06/03 - 238.0\n",
      "Prediction: 260.0\n",
      "Profit Spread: -21.0\n",
      "\n",
      "Bought Date: 108/06/03 - 238.0\n",
      "Sold Date: 108/07/02 - 249.0\n",
      "Prediction: 238.5\n",
      "Profit Spread: 11.0\n",
      "\n",
      "Short Date: 108/07/02 - 249.0\n",
      "Bought Date: 108/07/30 - 260.0\n",
      "Prediction: 244.52020263671875\n",
      "Profit Spread: -11.0\n",
      "\n",
      "Short Date: 108/07/30 - 260.0\n",
      "Bought Date: 108/08/28 - 252.0\n",
      "Prediction: 259.6616516113281\n",
      "Profit Spread: 8.0\n",
      "\n",
      "Bought Date: 108/08/28 - 252.0\n",
      "Sold Date: 108/09/26 - 268.0\n",
      "Prediction: 254.0\n",
      "Profit Spread: 16.0\n",
      "\n",
      "Year 2\n",
      "Total Costs: 3783000.0\n",
      "Initial Funds: 1000000\n",
      "Trade Times:5\n",
      "Profits: 8961.75\n",
      "Return Of Rate: 1.00471175\n",
      "\n",
      "Average of Yearly ROR: 0.997\n"
     ]
    }
   ],
   "source": [
    "d,funds = ROR(x_step_closed,in_preds[:,0],true_step_closed,1000,short=True)\n",
    "for i in range(len(d['total_prices'])):\n",
    "    msg = 'Year {}\\nTotal Costs: {}\\nInitial Funds: {}\\nTrade Times:{}\\nProfits: {}\\nReturn Of Rate: {}\\n'.format(i+1,d['total_costs'][i],\n",
    "                                                                                    funds*1000,\n",
    "                                                                                    d['trade_times'][i],\n",
    "                                                                                     (d['total_prices'][i]-d['total_costs'][i])*0.99575,\n",
    "                                                                                     d['RORs'][i])\n",
    "    print(d['verbose'][i])\n",
    "    print(msg)\n",
    "print(\"Average of Yearly ROR: {:.3f}\".format(np.mean(d['RORs'])))"
   ]
  },
  {
   "cell_type": "code",
   "execution_count": 30,
   "metadata": {},
   "outputs": [
    {
     "name": "stdout",
     "output_type": "stream",
     "text": [
      "Year 1\n",
      "Total Costs: 7005000.0\n",
      "Initial Funds: 1000000\n",
      "Trade Times:8\n",
      "Profits: 71694.0\n",
      "Return Of Rate: 1.072\n",
      "\n",
      "Year 2\n",
      "Total Costs: 2247000.0\n",
      "Initial Funds: 1000000\n",
      "Trade Times:3\n",
      "Profits: 17923.5\n",
      "Return Of Rate: 1.0136735000000001\n",
      "\n",
      "Average of Yearly ROR: 1.043\n"
     ]
    }
   ],
   "source": [
    "d,funds = ROR(x_step_closed,in_preds[:,0],true_step_closed,1000,short=False)\n",
    "for i in range(len(d['total_prices'])):\n",
    "    msg = 'Year {}\\nTotal Costs: {}\\nInitial Funds: {}\\nTrade Times:{}\\nProfits: {}\\nReturn Of Rate: {}\\n'.format(i+1,d['total_costs'][i],\n",
    "                                                                                    funds*1000,\n",
    "                                                                                    d['trade_times'][i],\n",
    "                                                                                     (d['total_prices'][i]-d['total_costs'][i])*0.99575,\n",
    "                                                                                     d['RORs'][i])\n",
    "    #print(d['verbose'][i])\n",
    "    print(msg)\n",
    "print(\"Average of Yearly ROR: {:.3f}\".format(np.mean(d['RORs'])))"
   ]
  },
  {
   "cell_type": "code",
   "execution_count": 33,
   "metadata": {},
   "outputs": [
    {
     "name": "stdout",
     "output_type": "stream",
     "text": [
      "0.5882352941176471\n"
     ]
    }
   ],
   "source": [
    "right = []\n",
    "for i in range(len(x_step_closed)):\n",
    "    a = 0\n",
    "    b = 0\n",
    "    if x_step_closed[i] < in_preds[:,0][i]:\n",
    "        a = 1\n",
    "    if x_step_closed[i] < true_step_closed[i]:\n",
    "        b = 1\n",
    "    if a==b:\n",
    "        right.append(1)\n",
    "    else:\n",
    "        right.append(0)\n",
    "print(np.mean(right))"
   ]
  },
  {
   "cell_type": "code",
   "execution_count": null,
   "metadata": {},
   "outputs": [],
   "source": []
  }
 ],
 "metadata": {
  "kernelspec": {
   "display_name": "Python 3",
   "language": "python",
   "name": "python3"
  },
  "language_info": {
   "codemirror_mode": {
    "name": "ipython",
    "version": 3
   },
   "file_extension": ".py",
   "mimetype": "text/x-python",
   "name": "python",
   "nbconvert_exporter": "python",
   "pygments_lexer": "ipython3",
   "version": "3.7.3"
  }
 },
 "nbformat": 4,
 "nbformat_minor": 2
}
