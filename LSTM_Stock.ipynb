{
 "cells": [
  {
   "cell_type": "code",
   "execution_count": 1,
   "metadata": {},
   "outputs": [
    {
     "name": "stderr",
     "output_type": "stream",
     "text": [
      "Using TensorFlow backend.\n"
     ]
    }
   ],
   "source": [
    "from sklearn.preprocessing import MinMaxScaler\n",
    "from sklearn.metrics import r2_score\n",
    "from keras.models import Sequential\n",
    "from keras.layers import LSTM, Activation, Dense , Dropout\n",
    "from keras.optimizers import Adam,SGD\n",
    "from keras.callbacks import EarlyStopping\n",
    "import keras.backend as K\n",
    "from keras.initializers import lecun_uniform\n",
    "from keras import metrics , regularizers\n",
    "import numpy as np\n",
    "import pandas as pd\n",
    "import matplotlib.pyplot as plt\n",
    "import tensorflow as tf\n"
   ]
  },
  {
   "cell_type": "code",
   "execution_count": 2,
   "metadata": {},
   "outputs": [
    {
     "name": "stdout",
     "output_type": "stream",
     "text": [
      "(1258, 10) (1259, 1)\n"
     ]
    }
   ],
   "source": [
    "def splitData(X,Y,rate):\n",
    "  X_train = X[:int(X.shape[0]*rate)]\n",
    "  Y_train = Y[:int(Y.shape[0]*rate)]\n",
    "  X_val = X[int(X.shape[0]*rate):]\n",
    "  Y_val = Y[int(Y.shape[0]*rate)-1:]\n",
    "  return X_train, Y_train, X_val, Y_val\n",
    "\n",
    "def rmse (y_true, y_pred):\n",
    "    return K.sqrt(K.mean(K.square(y_pred - y_true), axis=-1))\n",
    "\n",
    "def metric_R2(y_true,y_pred):\n",
    "    SS_res =  K.sum(K.square( y_true-y_pred ))\n",
    "    SS_tot = K.sum(K.square( y_true - K.mean(y_true) ) )\n",
    "    return ( 1 - SS_res/(SS_tot + K.epsilon()) )\n",
    "\n",
    "df = pd.read_csv(\"data/2330_indicators.csv\")\n",
    "X_train = df[:-1].values\n",
    "\n",
    "y_train = df.loc[1:,['closed']].values\n",
    "X_train , Y_train , X_val , Y_val = splitData(X_train,y_train,0.8)\n",
    "print(X_val.shape,Y_val.shape)"
   ]
  },
  {
   "cell_type": "code",
   "execution_count": 3,
   "metadata": {},
   "outputs": [],
   "source": [
    "sc_X = MinMaxScaler()\n",
    "X_train_sc = sc_X.fit_transform(X_train)\n",
    "X_val_sc = sc_X.transform(X_val)\n",
    "sc_Y = MinMaxScaler()\n",
    "Y_train_sc = sc_Y.fit_transform(Y_train)\n",
    "Y_val_sc = sc_Y.transform(Y_val)"
   ]
  },
  {
   "cell_type": "code",
   "execution_count": 4,
   "metadata": {},
   "outputs": [],
   "source": [
    "X_train_steps = []\n",
    "Y_train_steps = []\n",
    "for i in range(20, len(X_train_sc)):  # 1258 是訓練集總數\n",
    "    X_train_steps.append(X_train_sc[i-20:i])\n",
    "    Y_train_steps.append(Y_train_sc[i])\n",
    "X_train, Y_train = np.array(X_train_steps), np.array(Y_train_steps)\n",
    "\n",
    "X_val_steps = []\n",
    "Y_val_steps = []\n",
    "for i in range(20,len(X_val_sc)):\n",
    "    X_val_steps.append(X_val_sc[i-20:i])\n",
    "    Y_val_steps.append(Y_val_sc[i])\n",
    "X_val , Y_val = np.array(X_val_steps) , np.array(Y_val_steps)\n"
   ]
  },
  {
   "cell_type": "code",
   "execution_count": 5,
   "metadata": {
    "scrolled": false
   },
   "outputs": [
    {
     "name": "stdout",
     "output_type": "stream",
     "text": [
      "_________________________________________________________________\n",
      "Layer (type)                 Output Shape              Param #   \n",
      "=================================================================\n",
      "lstm_1 (LSTM)                (None, 20, 16)            1728      \n",
      "_________________________________________________________________\n",
      "dropout_1 (Dropout)          (None, 20, 16)            0         \n",
      "_________________________________________________________________\n",
      "lstm_2 (LSTM)                (None, 16)                2112      \n",
      "_________________________________________________________________\n",
      "dropout_2 (Dropout)          (None, 16)                0         \n",
      "_________________________________________________________________\n",
      "dense_1 (Dense)              (None, 1)                 17        \n",
      "=================================================================\n",
      "Total params: 3,857\n",
      "Trainable params: 3,857\n",
      "Non-trainable params: 0\n",
      "_________________________________________________________________\n"
     ]
    }
   ],
   "source": [
    "epochs = 500\n",
    "batch_size = 32\n",
    "layers_num = 3\n",
    "units = 16\n",
    "\n",
    "model_lstm = Sequential()\n",
    "#use L2 to improve overfit\n",
    "model_lstm.add(LSTM(units,input_shape=X_train.shape[1:],activation='relu',kernel_initializer='lecun_uniform',kernel_regularizer=regularizers.l2(0.01),return_sequences=True)) \n",
    "model_lstm.add(Dropout(0.1))\n",
    "\n",
    "model_lstm.add(LSTM(units,kernel_regularizer=regularizers.l2(0.01),return_sequences=False))\n",
    "model_lstm.add(Dropout(0.1))\n",
    "\"\"\"\n",
    "model_lstm.add(LSTM(32,return_sequences=False))\n",
    "model_lstm.add(Dropout(0.2))\n",
    "\n",
    "model_lstm.add(LSTM(32,return_sequences=False))\n",
    "model_lstm.add(Dropout(0.2))\n",
    "\"\"\"\n",
    "\n",
    "model_lstm.add(Dense(1))\n",
    "model_lstm.summary()\n",
    "model_lstm.compile(loss='mean_squared_error',optimizer=\"Adam\",metrics=[rmse])"
   ]
  },
  {
   "cell_type": "code",
   "execution_count": 6,
   "metadata": {
    "scrolled": false
   },
   "outputs": [
    {
     "name": "stdout",
     "output_type": "stream",
     "text": [
      "Train on 5008 samples, validate on 1238 samples\n",
      "Epoch 1/500\n",
      "5008/5008 [==============================] - 4s 842us/step - loss: 0.6160 - rmse: 0.1728 - val_loss: 0.5613 - val_rmse: 0.4127\n",
      "Epoch 2/500\n",
      "5008/5008 [==============================] - 3s 542us/step - loss: 0.2493 - rmse: 0.1127 - val_loss: 0.2585 - val_rmse: 0.3024\n",
      "Epoch 3/500\n",
      "5008/5008 [==============================] - 3s 528us/step - loss: 0.1219 - rmse: 0.0951 - val_loss: 0.2639 - val_rmse: 0.3985\n",
      "Epoch 4/500\n",
      "5008/5008 [==============================] - 3s 532us/step - loss: 0.0779 - rmse: 0.0975 - val_loss: 0.0785 - val_rmse: 0.1716\n",
      "Epoch 5/500\n",
      "5008/5008 [==============================] - 3s 545us/step - loss: 0.0476 - rmse: 0.0669 - val_loss: 0.0417 - val_rmse: 0.0717\n",
      "Epoch 6/500\n",
      "5008/5008 [==============================] - 3s 553us/step - loss: 0.0349 - rmse: 0.0581 - val_loss: 0.0263 - val_rmse: 0.0409\n",
      "Epoch 7/500\n",
      "5008/5008 [==============================] - 3s 571us/step - loss: 0.0283 - rmse: 0.0558 - val_loss: 0.0218 - val_rmse: 0.0354\n",
      "Epoch 8/500\n",
      "5008/5008 [==============================] - 3s 546us/step - loss: 0.0236 - rmse: 0.0529 - val_loss: 0.0175 - val_rmse: 0.0326\n",
      "Epoch 9/500\n",
      "5008/5008 [==============================] - 3s 542us/step - loss: 0.0206 - rmse: 0.0522 - val_loss: 0.0147 - val_rmse: 0.0307\n",
      "Epoch 10/500\n",
      "5008/5008 [==============================] - 3s 593us/step - loss: 0.0177 - rmse: 0.0494 - val_loss: 0.0261 - val_rmse: 0.1011\n",
      "Epoch 11/500\n",
      "5008/5008 [==============================] - 3s 661us/step - loss: 0.0157 - rmse: 0.0489 - val_loss: 0.0242 - val_rmse: 0.0985\n",
      "Epoch 12/500\n",
      "5008/5008 [==============================] - 3s 567us/step - loss: 0.0141 - rmse: 0.0472 - val_loss: 0.0245 - val_rmse: 0.1043\n",
      "Epoch 13/500\n",
      "5008/5008 [==============================] - 3s 547us/step - loss: 0.0129 - rmse: 0.0475 - val_loss: 0.0316 - val_rmse: 0.1291\n",
      "Epoch 14/500\n",
      "5008/5008 [==============================] - 3s 525us/step - loss: 0.0119 - rmse: 0.0471 - val_loss: 0.0215 - val_rmse: 0.0995\n",
      "Epoch 15/500\n",
      "5008/5008 [==============================] - 3s 576us/step - loss: 0.0108 - rmse: 0.0451 - val_loss: 0.0250 - val_rmse: 0.1136\n",
      "Epoch 16/500\n",
      "5008/5008 [==============================] - 3s 527us/step - loss: 0.0103 - rmse: 0.0458 - val_loss: 0.0179 - val_rmse: 0.0908\n",
      "Epoch 17/500\n",
      "5008/5008 [==============================] - 3s 550us/step - loss: 0.0096 - rmse: 0.0442 - val_loss: 0.0125 - val_rmse: 0.0699\n",
      "Epoch 18/500\n",
      "5008/5008 [==============================] - 3s 543us/step - loss: 0.0088 - rmse: 0.0433 - val_loss: 0.0177 - val_rmse: 0.0928\n",
      "Epoch 19/500\n",
      "5008/5008 [==============================] - 3s 594us/step - loss: 0.0091 - rmse: 0.0453 - val_loss: 0.0103 - val_rmse: 0.0622\n",
      "Epoch 20/500\n",
      "5008/5008 [==============================] - 3s 542us/step - loss: 0.0081 - rmse: 0.0424 - val_loss: 0.0158 - val_rmse: 0.0862\n",
      "Epoch 21/500\n",
      "5008/5008 [==============================] - 3s 552us/step - loss: 0.0082 - rmse: 0.0444 - val_loss: 0.0129 - val_rmse: 0.0763\n",
      "Epoch 22/500\n",
      "5008/5008 [==============================] - 3s 530us/step - loss: 0.0080 - rmse: 0.0432 - val_loss: 0.0092 - val_rmse: 0.0582\n",
      "Epoch 23/500\n",
      "5008/5008 [==============================] - 3s 537us/step - loss: 0.0075 - rmse: 0.0417 - val_loss: 0.0096 - val_rmse: 0.0618\n",
      "Epoch 24/500\n",
      "5008/5008 [==============================] - 3s 551us/step - loss: 0.0072 - rmse: 0.0415 - val_loss: 0.0086 - val_rmse: 0.0565\n",
      "Epoch 25/500\n",
      "5008/5008 [==============================] - 3s 524us/step - loss: 0.0075 - rmse: 0.0430 - val_loss: 0.0045 - val_rmse: 0.0299\n",
      "Epoch 26/500\n",
      "5008/5008 [==============================] - 3s 603us/step - loss: 0.0068 - rmse: 0.0400 - val_loss: 0.0113 - val_rmse: 0.0711\n",
      "Epoch 27/500\n",
      "5008/5008 [==============================] - 3s 525us/step - loss: 0.0068 - rmse: 0.0422 - val_loss: 0.0057 - val_rmse: 0.0410\n",
      "Epoch 28/500\n",
      "5008/5008 [==============================] - 3s 555us/step - loss: 0.0069 - rmse: 0.0416 - val_loss: 0.0050 - val_rmse: 0.0353\n",
      "Epoch 29/500\n",
      "5008/5008 [==============================] - 3s 541us/step - loss: 0.0061 - rmse: 0.0387 - val_loss: 0.0068 - val_rmse: 0.0493\n",
      "Epoch 30/500\n",
      "5008/5008 [==============================] - 3s 534us/step - loss: 0.0063 - rmse: 0.0403 - val_loss: 0.0050 - val_rmse: 0.0372\n",
      "Epoch 31/500\n",
      "5008/5008 [==============================] - 3s 530us/step - loss: 0.0062 - rmse: 0.0399 - val_loss: 0.0042 - val_rmse: 0.0321\n",
      "Epoch 32/500\n",
      "5008/5008 [==============================] - 3s 581us/step - loss: 0.0058 - rmse: 0.0386 - val_loss: 0.0112 - val_rmse: 0.0697\n",
      "Epoch 33/500\n",
      "5008/5008 [==============================] - 3s 621us/step - loss: 0.0066 - rmse: 0.0417 - val_loss: 0.0040 - val_rmse: 0.0350\n",
      "Epoch 34/500\n",
      "5008/5008 [==============================] - 3s 553us/step - loss: 0.0059 - rmse: 0.0388 - val_loss: 0.0041 - val_rmse: 0.0327\n",
      "Epoch 35/500\n",
      "5008/5008 [==============================] - 3s 535us/step - loss: 0.0057 - rmse: 0.0382 - val_loss: 0.0068 - val_rmse: 0.0494\n",
      "Epoch 36/500\n",
      "5008/5008 [==============================] - 3s 533us/step - loss: 0.0058 - rmse: 0.0388 - val_loss: 0.0038 - val_rmse: 0.0340\n",
      "Epoch 37/500\n",
      "5008/5008 [==============================] - 3s 588us/step - loss: 0.0054 - rmse: 0.0377 - val_loss: 0.0044 - val_rmse: 0.0367\n",
      "Epoch 38/500\n",
      "5008/5008 [==============================] - 3s 519us/step - loss: 0.0056 - rmse: 0.0389 - val_loss: 0.0058 - val_rmse: 0.0448\n",
      "Epoch 39/500\n",
      "5008/5008 [==============================] - 3s 546us/step - loss: 0.0058 - rmse: 0.0394 - val_loss: 0.0048 - val_rmse: 0.0391\n",
      "Epoch 40/500\n",
      "5008/5008 [==============================] - 3s 525us/step - loss: 0.0057 - rmse: 0.0391 - val_loss: 0.0038 - val_rmse: 0.0337\n",
      "Epoch 41/500\n",
      "5008/5008 [==============================] - 3s 540us/step - loss: 0.0051 - rmse: 0.0367 - val_loss: 0.0064 - val_rmse: 0.0482\n",
      "Epoch 42/500\n",
      "5008/5008 [==============================] - 3s 519us/step - loss: 0.0055 - rmse: 0.0384 - val_loss: 0.0048 - val_rmse: 0.0398\n",
      "Epoch 43/500\n",
      "5008/5008 [==============================] - 3s 550us/step - loss: 0.0053 - rmse: 0.0379 - val_loss: 0.0049 - val_rmse: 0.0404\n",
      "Epoch 44/500\n",
      "5008/5008 [==============================] - 3s 564us/step - loss: 0.0053 - rmse: 0.0384 - val_loss: 0.0054 - val_rmse: 0.0439\n",
      "Epoch 45/500\n",
      "5008/5008 [==============================] - 3s 559us/step - loss: 0.0054 - rmse: 0.0393 - val_loss: 0.0099 - val_rmse: 0.0651\n",
      "Epoch 46/500\n",
      "5008/5008 [==============================] - 3s 549us/step - loss: 0.0052 - rmse: 0.0379 - val_loss: 0.0036 - val_rmse: 0.0346\n",
      "Epoch 47/500\n",
      "5008/5008 [==============================] - 3s 539us/step - loss: 0.0049 - rmse: 0.0363 - val_loss: 0.0057 - val_rmse: 0.0453\n",
      "Epoch 48/500\n",
      "5008/5008 [==============================] - 3s 559us/step - loss: 0.0051 - rmse: 0.0376 - val_loss: 0.0071 - val_rmse: 0.0533\n",
      "Epoch 49/500\n",
      "5008/5008 [==============================] - 3s 674us/step - loss: 0.0046 - rmse: 0.0360 - val_loss: 0.0120 - val_rmse: 0.0743\n",
      "Epoch 50/500\n",
      "5008/5008 [==============================] - 3s 589us/step - loss: 0.0052 - rmse: 0.0385 - val_loss: 0.0052 - val_rmse: 0.0433\n",
      "Epoch 51/500\n",
      "5008/5008 [==============================] - 3s 614us/step - loss: 0.0047 - rmse: 0.0359 - val_loss: 0.0065 - val_rmse: 0.0499\n",
      "Epoch 52/500\n",
      "5008/5008 [==============================] - 3s 590us/step - loss: 0.0047 - rmse: 0.0360 - val_loss: 0.0070 - val_rmse: 0.0524\n",
      "Epoch 53/500\n",
      "5008/5008 [==============================] - 3s 563us/step - loss: 0.0047 - rmse: 0.0358 - val_loss: 0.0073 - val_rmse: 0.0544\n",
      "Epoch 54/500\n",
      "5008/5008 [==============================] - 3s 537us/step - loss: 0.0051 - rmse: 0.0376 - val_loss: 0.0047 - val_rmse: 0.0407\n",
      "Epoch 55/500\n",
      "5008/5008 [==============================] - 3s 547us/step - loss: 0.0046 - rmse: 0.0365 - val_loss: 0.0109 - val_rmse: 0.0702\n",
      "Epoch 56/500\n",
      "5008/5008 [==============================] - 3s 531us/step - loss: 0.0049 - rmse: 0.0376 - val_loss: 0.0059 - val_rmse: 0.0472\n",
      "Epoch 00056: early stopping\n",
      "The R2 score on the Validation set is:\t0.924\n"
     ]
    }
   ],
   "source": [
    "early_stop = EarlyStopping(monitor='val_loss', min_delta=0, patience=10, verbose=1)\n",
    "history = model_lstm.fit(X_train, Y_train, epochs=epochs, batch_size=batch_size, shuffle=False,validation_data=(X_val,Y_val),callbacks=[early_stop])\n",
    "y_pred_test_lstm = model_lstm.predict(X_val)\n",
    "y_train_pred_lstm = model_lstm.predict(X_train)\n",
    "r2score = r2_score(Y_val, y_pred_test_lstm)\n",
    "print(\"The R2 score on the Validation set is:\\t{:0.3f}\".format(r2score))"
   ]
  },
  {
   "cell_type": "code",
   "execution_count": 7,
   "metadata": {},
   "outputs": [
    {
     "data": {
      "image/png": "[encoded data removed]",
      "text/plain": [
       "<matplotlib.figure.Figure at 0x247b8d30>"
      ]
     },
     "metadata": {
      "needs_background": "light"
     },
     "output_type": "display_data"
    }
   ],
   "source": [
    "plt.figure(1)\n",
    "plt.subplot(211)\n",
    "plt.plot(sc_Y.inverse_transform(y_pred_test_lstm),'b',label='Predictions')\n",
    "plt.plot(sc_Y.inverse_transform(Y_val),'r',label='Real')\n",
    "plt.title('LSTM_Stock-Predictions',)\n",
    "plt.xlabel('Index')\n",
    "plt.ylabel('Price')\n",
    "score = \"{:0.3f}\".format(r2score)\n",
    "plt.text(0,plt.ylim()[1]-20,'R2 score: '+ score)\n",
    "plt.legend(loc='lower right')\n",
    "plt.grid(True)\n",
    "plt.subplot(212)\n",
    "plt.title(\"Trainning Lose\")\n",
    "plt.xlabel(\"epochs\")\n",
    "plt.ylabel(\"loss\")\n",
    "plt.plot(history.history['val_loss'],label='loss')\n",
    "plt.legend(loc='upper right')\n",
    "plt.grid(True)\n",
    "plt.subplots_adjust(hspace=0.7)\n",
    "saveName = 'LSTM_layers'+str(layers_num)+'_units'+str(units)+'_epochs'+str(epochs)+'_batch_size'+str(batch_size)+'_r2score~'+str(score)\n",
    "plt.savefig('pltfigs/'+saveName+'.png',dpi=200)\n",
    "plt.show()"
   ]
  },
  {
   "cell_type": "code",
   "execution_count": 8,
   "metadata": {},
   "outputs": [
    {
     "data": {
      "image/png": "[encoded data removed]",
      "text/plain": [
       "<matplotlib.figure.Figure at 0x247a05f8>"
      ]
     },
     "metadata": {
      "needs_background": "light"
     },
     "output_type": "display_data"
    }
   ],
   "source": [
    "#model_lstm.save(saveName+'.h5')\n",
    "plt.plot(history.history['val_loss'][-31:])\n",
    "plt.show()"
   ]
  },
  {
   "cell_type": "code",
   "execution_count": null,
   "metadata": {},
   "outputs": [],
   "source": []
  }
 ],
 "metadata": {
  "kernelspec": {
   "display_name": "Python 3",
   "language": "python",
   "name": "python3"
  },
  "language_info": {
   "codemirror_mode": {
    "name": "ipython",
    "version": 3
   },
   "file_extension": ".py",
   "mimetype": "text/x-python",
   "name": "python",
   "nbconvert_exporter": "python",
   "pygments_lexer": "ipython3",
   "version": "3.6.4"
  }
 },
 "nbformat": 4,
 "nbformat_minor": 2
}
