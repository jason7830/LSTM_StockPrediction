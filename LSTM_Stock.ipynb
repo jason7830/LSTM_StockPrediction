{
 "cells": [
  {
   "cell_type": "code",
   "execution_count": 1,
   "metadata": {},
   "outputs": [
    {
     "name": "stderr",
     "output_type": "stream",
     "text": [
      "Using TensorFlow backend.\n"
     ]
    }
   ],
   "source": [
    "from sklearn.preprocessing import MinMaxScaler\n",
    "from sklearn.metrics import r2_score\n",
    "from keras.models import Sequential\n",
    "from keras.layers import LSTM, Activation, Dense , Dropout\n",
    "from keras.optimizers import Adam,SGD\n",
    "from keras.callbacks import EarlyStopping , LearningRateScheduler\n",
    "import keras.backend as K\n",
    "from keras.initializers import lecun_uniform\n",
    "from keras import metrics , regularizers\n",
    "import numpy as np\n",
    "import pandas as pd\n",
    "import matplotlib.pyplot as plt\n",
    "import tensorflow as tf\n"
   ]
  },
  {
   "cell_type": "code",
   "execution_count": 22,
   "metadata": {},
   "outputs": [
    {
     "name": "stdout",
     "output_type": "stream",
     "text": [
      "(1249, 9) (1250, 1)\n"
     ]
    }
   ],
   "source": [
    "def splitData(X,Y,rate):\n",
    "    X_train = X[:int(X.shape[0]*rate)]\n",
    "    Y_train = Y[:int(Y.shape[0]*rate)]\n",
    "    X_val = X[int(X.shape[0]*rate):]\n",
    "    Y_val = Y[int(Y.shape[0]*rate)-1:]\n",
    "    return X_train, Y_train, X_val, Y_val\n",
    "\n",
    "def rmse (y_true, y_pred):\n",
    "    return K.sqrt(K.mean(K.square(y_pred - y_true), axis=-1))\n",
    "\n",
    "def metric_R2(y_true,y_pred):\n",
    "    SS_res =  K.sum(K.square( y_true-y_pred ))\n",
    "    SS_tot = K.sum(K.square( y_true - K.mean(y_true) ) )\n",
    "    return ( 1 - SS_res/(SS_tot + K.epsilon()) )\n",
    "\n",
    "def step_decay(epoch):\n",
    "    initial_lrate = 0.0001\n",
    "    drop = 0.5\n",
    "    epochs_drop = 20.0\n",
    "    lrate = initial_lrate * np.power(drop,np.floor((1+epoch)/epochs_drop))\n",
    "    return lrate    \n",
    "\n",
    "df = pd.read_csv(\"data/2330_indicators.csv\").drop(['date'],axis=1)\n",
    "X_train = df[:-1].values\n",
    "\n",
    "y_train = df.loc[1:,['closed']].values\n",
    "X_train , Y_train , X_val , Y_val = splitData(X_train,y_train,0.8)\n",
    "ta,ta,tc,td = splitData(X_train,y_train,0.8)\n",
    "print(X_val.shape,Y_val.shape)"
   ]
  },
  {
   "cell_type": "code",
   "execution_count": 23,
   "metadata": {},
   "outputs": [],
   "source": [
    "sc_X = MinMaxScaler()\n",
    "X_train_sc = sc_X.fit_transform(X_train)\n",
    "X_val_sc = sc_X.transform(X_val)\n",
    "sc_Y = MinMaxScaler()\n",
    "Y_train_sc = sc_Y.fit_transform(Y_train)\n",
    "Y_val_sc = sc_Y.transform(Y_val)"
   ]
  },
  {
   "cell_type": "code",
   "execution_count": 24,
   "metadata": {},
   "outputs": [],
   "source": [
    "X_train_steps = []\n",
    "Y_train_steps = []\n",
    "for i in range(20, len(X_train_sc)):  # 1258 是訓練集總數\n",
    "    X_train_steps.append(X_train_sc[i-20:i])\n",
    "    Y_train_steps.append(Y_train_sc[i])\n",
    "X_train, Y_train = np.array(X_train_steps), np.array(Y_train_steps)\n",
    "\n",
    "X_val_steps = []\n",
    "Y_val_steps = []\n",
    "for i in range(20,len(X_val_sc)):\n",
    "    X_val_steps.append(X_val_sc[i-20:i])\n",
    "    Y_val_steps.append(Y_val_sc[i])\n",
    "X_val , Y_val = np.array(X_val_steps) , np.array(Y_val_steps)\n"
   ]
  },
  {
   "cell_type": "code",
   "execution_count": 5,
   "metadata": {
    "scrolled": false
   },
   "outputs": [
    {
     "name": "stdout",
     "output_type": "stream",
     "text": [
      "_________________________________________________________________\n",
      "Layer (type)                 Output Shape              Param #   \n",
      "=================================================================\n",
      "lstm_1 (LSTM)                (None, 20, 16)            1664      \n",
      "_________________________________________________________________\n",
      "lstm_2 (LSTM)                (None, 20, 16)            2112      \n",
      "_________________________________________________________________\n",
      "lstm_3 (LSTM)                (None, 16)                2112      \n",
      "_________________________________________________________________\n",
      "dense_1 (Dense)              (None, 1)                 17        \n",
      "=================================================================\n",
      "Total params: 5,905\n",
      "Trainable params: 5,905\n",
      "Non-trainable params: 0\n",
      "_________________________________________________________________\n"
     ]
    }
   ],
   "source": [
    "epochs = 300\n",
    "batch_size = 32\n",
    "LSTM_num = 3\n",
    "units = 16\n",
    "\n",
    "model_lstm = Sequential()\n",
    "#use L2 to improve overfit\n",
    "model_lstm.add(LSTM(units,input_shape=X_train.shape[1:],activation='relu',kernel_initializer='lecun_uniform',kernel_regularizer=regularizers.l2(0.0009),return_sequences=True)) \n",
    "\n",
    "model_lstm.add(LSTM(units,kernel_regularizer=regularizers.l2(0.0009),return_sequences=True))\n",
    "\n",
    "model_lstm.add(LSTM(units,kernel_regularizer=regularizers.l2(0.0009),return_sequences=False))\n",
    "\n",
    "model_lstm.add(Dense(1))\n",
    "model_lstm.summary()\n",
    "model_lstm.compile(loss='mean_squared_error',optimizer=\"Adam\",metrics=[rmse])"
   ]
  },
  {
   "cell_type": "code",
   "execution_count": 6,
   "metadata": {
    "scrolled": true
   },
   "outputs": [
    {
     "name": "stdout",
     "output_type": "stream",
     "text": [
      "Train on 4973 samples, validate on 1229 samples\n",
      "Epoch 1/300\n",
      "4973/4973 [==============================] - 20s 4ms/step - loss: 0.1245 - rmse: 0.1129 - val_loss: 0.1596 - val_rmse: 0.2309\n",
      "Epoch 2/300\n",
      "4973/4973 [==============================] - 16s 3ms/step - loss: 0.0740 - rmse: 0.0646 - val_loss: 0.0739 - val_rmse: 0.0944\n",
      "Epoch 3/300\n",
      "4973/4973 [==============================] - 16s 3ms/step - loss: 0.0539 - rmse: 0.0408 - val_loss: 0.0565 - val_rmse: 0.0880\n",
      "Epoch 4/300\n",
      "4973/4973 [==============================] - 16s 3ms/step - loss: 0.0435 - rmse: 0.0373 - val_loss: 0.0505 - val_rmse: 0.0824\n",
      "Epoch 5/300\n",
      "4973/4973 [==============================] - 16s 3ms/step - loss: 0.0372 - rmse: 0.0372 - val_loss: 0.0492 - val_rmse: 0.0925\n",
      "Epoch 6/300\n",
      "4973/4973 [==============================] - 16s 3ms/step - loss: 0.0338 - rmse: 0.0430 - val_loss: 0.0406 - val_rmse: 0.0803\n",
      "Epoch 7/300\n",
      "4973/4973 [==============================] - 16s 3ms/step - loss: 0.0297 - rmse: 0.0400 - val_loss: 0.0306 - val_rmse: 0.0668\n",
      "Epoch 8/300\n",
      "4973/4973 [==============================] - 16s 3ms/step - loss: 0.0251 - rmse: 0.0349 - val_loss: 0.0294 - val_rmse: 0.0641\n",
      "Epoch 9/300\n",
      "4973/4973 [==============================] - 16s 3ms/step - loss: 0.0229 - rmse: 0.0352 - val_loss: 0.0264 - val_rmse: 0.0624\n",
      "Epoch 10/300\n",
      "4973/4973 [==============================] - 16s 3ms/step - loss: 0.0208 - rmse: 0.0357 - val_loss: 0.0237 - val_rmse: 0.0600\n",
      "Epoch 11/300\n",
      "4973/4973 [==============================] - 16s 3ms/step - loss: 0.0189 - rmse: 0.0353 - val_loss: 0.0212 - val_rmse: 0.0574\n",
      "Epoch 12/300\n",
      "4973/4973 [==============================] - 16s 3ms/step - loss: 0.0172 - rmse: 0.0350 - val_loss: 0.0192 - val_rmse: 0.0552\n",
      "Epoch 13/300\n",
      "4973/4973 [==============================] - 16s 3ms/step - loss: 0.0158 - rmse: 0.0349 - val_loss: 0.0176 - val_rmse: 0.0538\n",
      "Epoch 14/300\n",
      "4973/4973 [==============================] - 16s 3ms/step - loss: 0.0146 - rmse: 0.0349 - val_loss: 0.0160 - val_rmse: 0.0515\n",
      "Epoch 15/300\n",
      "4973/4973 [==============================] - 16s 3ms/step - loss: 0.0134 - rmse: 0.0347 - val_loss: 0.0148 - val_rmse: 0.0503\n",
      "Epoch 16/300\n",
      "4973/4973 [==============================] - 16s 3ms/step - loss: 0.0124 - rmse: 0.0345 - val_loss: 0.0135 - val_rmse: 0.0483\n",
      "Epoch 17/300\n",
      "4973/4973 [==============================] - 16s 3ms/step - loss: 0.0115 - rmse: 0.0342 - val_loss: 0.0126 - val_rmse: 0.0476\n",
      "Epoch 18/300\n",
      "4973/4973 [==============================] - 16s 3ms/step - loss: 0.0107 - rmse: 0.0339 - val_loss: 0.0115 - val_rmse: 0.0459\n",
      "Epoch 19/300\n",
      "4973/4973 [==============================] - 16s 3ms/step - loss: 0.0100 - rmse: 0.0337 - val_loss: 0.0110 - val_rmse: 0.0463\n",
      "Epoch 20/300\n",
      "4973/4973 [==============================] - 16s 3ms/step - loss: 0.0093 - rmse: 0.0334 - val_loss: 0.0098 - val_rmse: 0.0438\n",
      "Epoch 21/300\n",
      "4973/4973 [==============================] - 16s 3ms/step - loss: 0.0087 - rmse: 0.0332 - val_loss: 0.0098 - val_rmse: 0.0457\n",
      "Epoch 22/300\n",
      "4973/4973 [==============================] - 16s 3ms/step - loss: 0.0083 - rmse: 0.0329 - val_loss: 0.0084 - val_rmse: 0.0416\n",
      "Epoch 23/300\n",
      "4973/4973 [==============================] - 16s 3ms/step - loss: 0.0077 - rmse: 0.0329 - val_loss: 0.0093 - val_rmse: 0.0476\n",
      "Epoch 24/300\n",
      "4973/4973 [==============================] - 16s 3ms/step - loss: 0.0075 - rmse: 0.0326 - val_loss: 0.0072 - val_rmse: 0.0393\n",
      "Epoch 25/300\n",
      "4973/4973 [==============================] - 16s 3ms/step - loss: 0.0069 - rmse: 0.0329 - val_loss: 0.0100 - val_rmse: 0.0546\n",
      "Epoch 26/300\n",
      "4973/4973 [==============================] - 16s 3ms/step - loss: 0.0069 - rmse: 0.0327 - val_loss: 0.0062 - val_rmse: 0.0377\n",
      "Epoch 27/300\n",
      "4973/4973 [==============================] - 16s 3ms/step - loss: 0.0062 - rmse: 0.0322 - val_loss: 0.0098 - val_rmse: 0.0557\n",
      "Epoch 28/300\n",
      "4973/4973 [==============================] - 16s 3ms/step - loss: 0.0064 - rmse: 0.0332 - val_loss: 0.0058 - val_rmse: 0.0374\n",
      "Epoch 29/300\n",
      "4973/4973 [==============================] - 16s 3ms/step - loss: 0.0057 - rmse: 0.0313 - val_loss: 0.0072 - val_rmse: 0.0451\n",
      "Epoch 30/300\n",
      "4973/4973 [==============================] - 16s 3ms/step - loss: 0.0057 - rmse: 0.0310 - val_loss: 0.0055 - val_rmse: 0.0373\n",
      "Epoch 31/300\n",
      "4973/4973 [==============================] - 16s 3ms/step - loss: 0.0053 - rmse: 0.0314 - val_loss: 0.0084 - val_rmse: 0.0533\n",
      "Epoch 32/300\n",
      "4973/4973 [==============================] - 16s 3ms/step - loss: 0.0055 - rmse: 0.0318 - val_loss: 0.0048 - val_rmse: 0.0357\n",
      "Epoch 33/300\n",
      "4973/4973 [==============================] - 16s 3ms/step - loss: 0.0049 - rmse: 0.0310 - val_loss: 0.0081 - val_rmse: 0.0531\n",
      "Epoch 34/300\n",
      "4973/4973 [==============================] - 16s 3ms/step - loss: 0.0052 - rmse: 0.0317 - val_loss: 0.0047 - val_rmse: 0.0360\n",
      "Epoch 35/300\n",
      "4973/4973 [==============================] - 17s 3ms/step - loss: 0.0047 - rmse: 0.0305 - val_loss: 0.0066 - val_rmse: 0.0465\n",
      "Epoch 36/300\n",
      "4973/4973 [==============================] - 16s 3ms/step - loss: 0.0048 - rmse: 0.0306 - val_loss: 0.0046 - val_rmse: 0.0364\n",
      "Epoch 37/300\n",
      "4973/4973 [==============================] - 16s 3ms/step - loss: 0.0045 - rmse: 0.0304 - val_loss: 0.0070 - val_rmse: 0.0496\n",
      "Epoch 38/300\n",
      "4973/4973 [==============================] - 16s 3ms/step - loss: 0.0047 - rmse: 0.0306 - val_loss: 0.0042 - val_rmse: 0.0357\n",
      "Epoch 39/300\n",
      "4973/4973 [==============================] - 16s 3ms/step - loss: 0.0043 - rmse: 0.0302 - val_loss: 0.0070 - val_rmse: 0.0507\n",
      "Epoch 40/300\n",
      "4973/4973 [==============================] - 16s 3ms/step - loss: 0.0045 - rmse: 0.0305 - val_loss: 0.0041 - val_rmse: 0.0358\n",
      "Epoch 41/300\n",
      "4973/4973 [==============================] - 16s 3ms/step - loss: 0.0042 - rmse: 0.0299 - val_loss: 0.0063 - val_rmse: 0.0478\n",
      "Epoch 42/300\n",
      "4973/4973 [==============================] - 17s 3ms/step - loss: 0.0043 - rmse: 0.0300 - val_loss: 0.0041 - val_rmse: 0.0360\n",
      "Epoch 43/300\n",
      "4973/4973 [==============================] - 16s 3ms/step - loss: 0.0040 - rmse: 0.0297 - val_loss: 0.0064 - val_rmse: 0.0488\n",
      "Epoch 44/300\n",
      "4973/4973 [==============================] - 16s 3ms/step - loss: 0.0042 - rmse: 0.0299 - val_loss: 0.0040 - val_rmse: 0.0359\n",
      "Epoch 45/300\n",
      "4973/4973 [==============================] - 16s 3ms/step - loss: 0.0039 - rmse: 0.0294 - val_loss: 0.0062 - val_rmse: 0.0480\n",
      "Epoch 46/300\n",
      "4973/4973 [==============================] - 16s 3ms/step - loss: 0.0041 - rmse: 0.0296 - val_loss: 0.0042 - val_rmse: 0.0379\n",
      "Epoch 47/300\n",
      "4973/4973 [==============================] - 16s 3ms/step - loss: 0.0038 - rmse: 0.0292 - val_loss: 0.0062 - val_rmse: 0.0485\n",
      "Epoch 48/300\n",
      "4973/4973 [==============================] - 16s 3ms/step - loss: 0.0040 - rmse: 0.0294 - val_loss: 0.0038 - val_rmse: 0.0358\n",
      "Epoch 49/300\n",
      "4973/4973 [==============================] - 16s 3ms/step - loss: 0.0037 - rmse: 0.0291 - val_loss: 0.0052 - val_rmse: 0.0438\n",
      "Epoch 50/300\n",
      "4973/4973 [==============================] - 16s 3ms/step - loss: 0.0038 - rmse: 0.0291 - val_loss: 0.0041 - val_rmse: 0.0378\n",
      "Epoch 51/300\n",
      "4973/4973 [==============================] - 16s 3ms/step - loss: 0.0037 - rmse: 0.0290 - val_loss: 0.0054 - val_rmse: 0.0453\n",
      "Epoch 52/300\n",
      "4973/4973 [==============================] - 16s 3ms/step - loss: 0.0037 - rmse: 0.0289 - val_loss: 0.0039 - val_rmse: 0.0369\n",
      "Epoch 53/300\n",
      "4973/4973 [==============================] - 16s 3ms/step - loss: 0.0036 - rmse: 0.0288 - val_loss: 0.0048 - val_rmse: 0.0419\n",
      "Epoch 54/300\n",
      "4973/4973 [==============================] - 16s 3ms/step - loss: 0.0037 - rmse: 0.0288 - val_loss: 0.0043 - val_rmse: 0.0392\n",
      "Epoch 55/300\n",
      "4973/4973 [==============================] - 16s 3ms/step - loss: 0.0036 - rmse: 0.0288 - val_loss: 0.0049 - val_rmse: 0.0426\n",
      "Epoch 56/300\n",
      "4973/4973 [==============================] - 16s 3ms/step - loss: 0.0036 - rmse: 0.0287 - val_loss: 0.0041 - val_rmse: 0.0385\n",
      "Epoch 57/300\n",
      "4973/4973 [==============================] - 16s 3ms/step - loss: 0.0035 - rmse: 0.0286 - val_loss: 0.0046 - val_rmse: 0.0411\n",
      "Epoch 58/300\n",
      "4973/4973 [==============================] - 16s 3ms/step - loss: 0.0035 - rmse: 0.0286 - val_loss: 0.0046 - val_rmse: 0.0413\n",
      "Epoch 59/300\n"
     ]
    },
    {
     "name": "stdout",
     "output_type": "stream",
     "text": [
      "4973/4973 [==============================] - 16s 3ms/step - loss: 0.0035 - rmse: 0.0284 - val_loss: 0.0045 - val_rmse: 0.0409\n",
      "Epoch 60/300\n",
      "4973/4973 [==============================] - 16s 3ms/step - loss: 0.0034 - rmse: 0.0284 - val_loss: 0.0040 - val_rmse: 0.0384\n",
      "Epoch 61/300\n",
      "4973/4973 [==============================] - 16s 3ms/step - loss: 0.0034 - rmse: 0.0283 - val_loss: 0.0041 - val_rmse: 0.0387\n",
      "Epoch 62/300\n",
      "4973/4973 [==============================] - 16s 3ms/step - loss: 0.0034 - rmse: 0.0282 - val_loss: 0.0041 - val_rmse: 0.0392\n",
      "Epoch 63/300\n",
      "4973/4973 [==============================] - 16s 3ms/step - loss: 0.0034 - rmse: 0.0282 - val_loss: 0.0041 - val_rmse: 0.0391\n",
      "Epoch 64/300\n",
      "4973/4973 [==============================] - 17s 3ms/step - loss: 0.0033 - rmse: 0.0282 - val_loss: 0.0041 - val_rmse: 0.0390\n",
      "Epoch 65/300\n",
      "4973/4973 [==============================] - 16s 3ms/step - loss: 0.0033 - rmse: 0.0281 - val_loss: 0.0039 - val_rmse: 0.0381\n",
      "Epoch 66/300\n",
      "4973/4973 [==============================] - 16s 3ms/step - loss: 0.0033 - rmse: 0.0280 - val_loss: 0.0040 - val_rmse: 0.0386\n",
      "Epoch 67/300\n",
      "4973/4973 [==============================] - 16s 3ms/step - loss: 0.0033 - rmse: 0.0279 - val_loss: 0.0041 - val_rmse: 0.0392\n",
      "Epoch 68/300\n",
      "4973/4973 [==============================] - 16s 3ms/step - loss: 0.0032 - rmse: 0.0278 - val_loss: 0.0040 - val_rmse: 0.0387\n",
      "Epoch 00068: early stopping\n",
      "The R2 score on the Validation set is:\t0.951\n"
     ]
    }
   ],
   "source": [
    "#decay lr by half every 10 epoch\n",
    "lrate = LearningRateScheduler(step_decay)\n",
    "early_stop = EarlyStopping(monitor='val_loss', min_delta=0.0001, patience=20, verbose=1)\n",
    "history = model_lstm.fit(X_train, Y_train, epochs=epochs, batch_size=batch_size, shuffle=False,validation_data=(X_val,Y_val),callbacks=[early_stop])\n",
    "y_pred_test_lstm = model_lstm.predict(X_val)\n",
    "y_train_pred_lstm = model_lstm.predict(X_train)\n",
    "r2score = r2_score(Y_val, y_pred_test_lstm)\n",
    "print(\"The R2 score on the Validation set is:\\t{:0.3f}\".format(r2score))"
   ]
  },
  {
   "cell_type": "code",
   "execution_count": 7,
   "metadata": {},
   "outputs": [
    {
     "ename": "FileNotFoundError",
     "evalue": "[Errno 2] No such file or directory: 'pltfigs/LSTM_layers3_units16_epochs300_batch_size32_r2score~0.951.png'",
     "output_type": "error",
     "traceback": [
      "\u001b[1;31m---------------------------------------------------------------------------\u001b[0m",
      "\u001b[1;31mFileNotFoundError\u001b[0m                         Traceback (most recent call last)",
      "\u001b[1;32m<ipython-input-7-a93056d7198e>\u001b[0m in \u001b[0;36m<module>\u001b[1;34m\u001b[0m\n\u001b[0;32m     27\u001b[0m \u001b[0mplt\u001b[0m\u001b[1;33m.\u001b[0m\u001b[0msubplots_adjust\u001b[0m\u001b[1;33m(\u001b[0m\u001b[0mhspace\u001b[0m\u001b[1;33m=\u001b[0m\u001b[1;36m0.7\u001b[0m\u001b[1;33m)\u001b[0m\u001b[1;33m\u001b[0m\u001b[0m\n\u001b[0;32m     28\u001b[0m \u001b[0msaveName\u001b[0m \u001b[1;33m=\u001b[0m \u001b[1;34m'LSTM_layers'\u001b[0m\u001b[1;33m+\u001b[0m\u001b[0mstr\u001b[0m\u001b[1;33m(\u001b[0m\u001b[0mLSTM_num\u001b[0m\u001b[1;33m)\u001b[0m\u001b[1;33m+\u001b[0m\u001b[1;34m'_units'\u001b[0m\u001b[1;33m+\u001b[0m\u001b[0mstr\u001b[0m\u001b[1;33m(\u001b[0m\u001b[0munits\u001b[0m\u001b[1;33m)\u001b[0m\u001b[1;33m+\u001b[0m\u001b[1;34m'_epochs'\u001b[0m\u001b[1;33m+\u001b[0m\u001b[0mstr\u001b[0m\u001b[1;33m(\u001b[0m\u001b[0mepochs\u001b[0m\u001b[1;33m)\u001b[0m\u001b[1;33m+\u001b[0m\u001b[1;34m'_batch_size'\u001b[0m\u001b[1;33m+\u001b[0m\u001b[0mstr\u001b[0m\u001b[1;33m(\u001b[0m\u001b[0mbatch_size\u001b[0m\u001b[1;33m)\u001b[0m\u001b[1;33m+\u001b[0m\u001b[1;34m'_r2score~'\u001b[0m\u001b[1;33m+\u001b[0m\u001b[0mstr\u001b[0m\u001b[1;33m(\u001b[0m\u001b[0mscore\u001b[0m\u001b[1;33m)\u001b[0m\u001b[1;33m\u001b[0m\u001b[0m\n\u001b[1;32m---> 29\u001b[1;33m \u001b[0mplt\u001b[0m\u001b[1;33m.\u001b[0m\u001b[0msavefig\u001b[0m\u001b[1;33m(\u001b[0m\u001b[1;34m'pltfigs/'\u001b[0m\u001b[1;33m+\u001b[0m\u001b[0msaveName\u001b[0m\u001b[1;33m+\u001b[0m\u001b[1;34m'.png'\u001b[0m\u001b[1;33m,\u001b[0m\u001b[0mdpi\u001b[0m\u001b[1;33m=\u001b[0m\u001b[1;36m200\u001b[0m\u001b[1;33m)\u001b[0m\u001b[1;33m\u001b[0m\u001b[0m\n\u001b[0m\u001b[0;32m     30\u001b[0m \u001b[0mplt\u001b[0m\u001b[1;33m.\u001b[0m\u001b[0mshow\u001b[0m\u001b[1;33m(\u001b[0m\u001b[1;33m)\u001b[0m\u001b[1;33m\u001b[0m\u001b[0m\n",
      "\u001b[1;32m~\\Anaconda3\\envs\\tensorflow_p36\\lib\\site-packages\\matplotlib\\pyplot.py\u001b[0m in \u001b[0;36msavefig\u001b[1;34m(*args, **kwargs)\u001b[0m\n\u001b[0;32m    687\u001b[0m \u001b[1;32mdef\u001b[0m \u001b[0msavefig\u001b[0m\u001b[1;33m(\u001b[0m\u001b[1;33m*\u001b[0m\u001b[0margs\u001b[0m\u001b[1;33m,\u001b[0m \u001b[1;33m**\u001b[0m\u001b[0mkwargs\u001b[0m\u001b[1;33m)\u001b[0m\u001b[1;33m:\u001b[0m\u001b[1;33m\u001b[0m\u001b[0m\n\u001b[0;32m    688\u001b[0m     \u001b[0mfig\u001b[0m \u001b[1;33m=\u001b[0m \u001b[0mgcf\u001b[0m\u001b[1;33m(\u001b[0m\u001b[1;33m)\u001b[0m\u001b[1;33m\u001b[0m\u001b[0m\n\u001b[1;32m--> 689\u001b[1;33m     \u001b[0mres\u001b[0m \u001b[1;33m=\u001b[0m \u001b[0mfig\u001b[0m\u001b[1;33m.\u001b[0m\u001b[0msavefig\u001b[0m\u001b[1;33m(\u001b[0m\u001b[1;33m*\u001b[0m\u001b[0margs\u001b[0m\u001b[1;33m,\u001b[0m \u001b[1;33m**\u001b[0m\u001b[0mkwargs\u001b[0m\u001b[1;33m)\u001b[0m\u001b[1;33m\u001b[0m\u001b[0m\n\u001b[0m\u001b[0;32m    690\u001b[0m     \u001b[0mfig\u001b[0m\u001b[1;33m.\u001b[0m\u001b[0mcanvas\u001b[0m\u001b[1;33m.\u001b[0m\u001b[0mdraw_idle\u001b[0m\u001b[1;33m(\u001b[0m\u001b[1;33m)\u001b[0m   \u001b[1;31m# need this if 'transparent=True' to reset colors\u001b[0m\u001b[1;33m\u001b[0m\u001b[0m\n\u001b[0;32m    691\u001b[0m     \u001b[1;32mreturn\u001b[0m \u001b[0mres\u001b[0m\u001b[1;33m\u001b[0m\u001b[0m\n",
      "\u001b[1;32m~\\Anaconda3\\envs\\tensorflow_p36\\lib\\site-packages\\matplotlib\\figure.py\u001b[0m in \u001b[0;36msavefig\u001b[1;34m(self, fname, frameon, transparent, **kwargs)\u001b[0m\n\u001b[0;32m   2092\u001b[0m             \u001b[0mself\u001b[0m\u001b[1;33m.\u001b[0m\u001b[0mset_frameon\u001b[0m\u001b[1;33m(\u001b[0m\u001b[0mframeon\u001b[0m\u001b[1;33m)\u001b[0m\u001b[1;33m\u001b[0m\u001b[0m\n\u001b[0;32m   2093\u001b[0m \u001b[1;33m\u001b[0m\u001b[0m\n\u001b[1;32m-> 2094\u001b[1;33m         \u001b[0mself\u001b[0m\u001b[1;33m.\u001b[0m\u001b[0mcanvas\u001b[0m\u001b[1;33m.\u001b[0m\u001b[0mprint_figure\u001b[0m\u001b[1;33m(\u001b[0m\u001b[0mfname\u001b[0m\u001b[1;33m,\u001b[0m \u001b[1;33m**\u001b[0m\u001b[0mkwargs\u001b[0m\u001b[1;33m)\u001b[0m\u001b[1;33m\u001b[0m\u001b[0m\n\u001b[0m\u001b[0;32m   2095\u001b[0m \u001b[1;33m\u001b[0m\u001b[0m\n\u001b[0;32m   2096\u001b[0m         \u001b[1;32mif\u001b[0m \u001b[0mframeon\u001b[0m\u001b[1;33m:\u001b[0m\u001b[1;33m\u001b[0m\u001b[0m\n",
      "\u001b[1;32m~\\Anaconda3\\envs\\tensorflow_p36\\lib\\site-packages\\matplotlib\\backend_bases.py\u001b[0m in \u001b[0;36mprint_figure\u001b[1;34m(self, filename, dpi, facecolor, edgecolor, orientation, format, bbox_inches, **kwargs)\u001b[0m\n\u001b[0;32m   2073\u001b[0m                     \u001b[0morientation\u001b[0m\u001b[1;33m=\u001b[0m\u001b[0morientation\u001b[0m\u001b[1;33m,\u001b[0m\u001b[1;33m\u001b[0m\u001b[0m\n\u001b[0;32m   2074\u001b[0m                     \u001b[0mbbox_inches_restore\u001b[0m\u001b[1;33m=\u001b[0m\u001b[0m_bbox_inches_restore\u001b[0m\u001b[1;33m,\u001b[0m\u001b[1;33m\u001b[0m\u001b[0m\n\u001b[1;32m-> 2075\u001b[1;33m                     **kwargs)\n\u001b[0m\u001b[0;32m   2076\u001b[0m             \u001b[1;32mfinally\u001b[0m\u001b[1;33m:\u001b[0m\u001b[1;33m\u001b[0m\u001b[0m\n\u001b[0;32m   2077\u001b[0m                 \u001b[1;32mif\u001b[0m \u001b[0mbbox_inches\u001b[0m \u001b[1;32mand\u001b[0m \u001b[0mrestore_bbox\u001b[0m\u001b[1;33m:\u001b[0m\u001b[1;33m\u001b[0m\u001b[0m\n",
      "\u001b[1;32m~\\Anaconda3\\envs\\tensorflow_p36\\lib\\site-packages\\matplotlib\\backends\\backend_agg.py\u001b[0m in \u001b[0;36mprint_png\u001b[1;34m(self, filename_or_obj, *args, **kwargs)\u001b[0m\n\u001b[0;32m    519\u001b[0m \u001b[1;33m\u001b[0m\u001b[0m\n\u001b[0;32m    520\u001b[0m         \u001b[1;32mwith\u001b[0m \u001b[0mcbook\u001b[0m\u001b[1;33m.\u001b[0m\u001b[0m_setattr_cm\u001b[0m\u001b[1;33m(\u001b[0m\u001b[0mrenderer\u001b[0m\u001b[1;33m,\u001b[0m \u001b[0mdpi\u001b[0m\u001b[1;33m=\u001b[0m\u001b[0mself\u001b[0m\u001b[1;33m.\u001b[0m\u001b[0mfigure\u001b[0m\u001b[1;33m.\u001b[0m\u001b[0mdpi\u001b[0m\u001b[1;33m)\u001b[0m\u001b[1;33m,\u001b[0m\u001b[0;31m \u001b[0m\u001b[0;31m\\\u001b[0m\u001b[1;33m\u001b[0m\u001b[0m\n\u001b[1;32m--> 521\u001b[1;33m                 \u001b[0mcbook\u001b[0m\u001b[1;33m.\u001b[0m\u001b[0mopen_file_cm\u001b[0m\u001b[1;33m(\u001b[0m\u001b[0mfilename_or_obj\u001b[0m\u001b[1;33m,\u001b[0m \u001b[1;34m\"wb\"\u001b[0m\u001b[1;33m)\u001b[0m \u001b[1;32mas\u001b[0m \u001b[0mfh\u001b[0m\u001b[1;33m:\u001b[0m\u001b[1;33m\u001b[0m\u001b[0m\n\u001b[0m\u001b[0;32m    522\u001b[0m             _png.write_png(renderer._renderer, fh,\n\u001b[0;32m    523\u001b[0m                             self.figure.dpi, metadata=metadata)\n",
      "\u001b[1;32m~\\Anaconda3\\envs\\tensorflow_p36\\lib\\contextlib.py\u001b[0m in \u001b[0;36m__enter__\u001b[1;34m(self)\u001b[0m\n\u001b[0;32m     79\u001b[0m     \u001b[1;32mdef\u001b[0m \u001b[0m__enter__\u001b[0m\u001b[1;33m(\u001b[0m\u001b[0mself\u001b[0m\u001b[1;33m)\u001b[0m\u001b[1;33m:\u001b[0m\u001b[1;33m\u001b[0m\u001b[0m\n\u001b[0;32m     80\u001b[0m         \u001b[1;32mtry\u001b[0m\u001b[1;33m:\u001b[0m\u001b[1;33m\u001b[0m\u001b[0m\n\u001b[1;32m---> 81\u001b[1;33m             \u001b[1;32mreturn\u001b[0m \u001b[0mnext\u001b[0m\u001b[1;33m(\u001b[0m\u001b[0mself\u001b[0m\u001b[1;33m.\u001b[0m\u001b[0mgen\u001b[0m\u001b[1;33m)\u001b[0m\u001b[1;33m\u001b[0m\u001b[0m\n\u001b[0m\u001b[0;32m     82\u001b[0m         \u001b[1;32mexcept\u001b[0m \u001b[0mStopIteration\u001b[0m\u001b[1;33m:\u001b[0m\u001b[1;33m\u001b[0m\u001b[0m\n\u001b[0;32m     83\u001b[0m             \u001b[1;32mraise\u001b[0m \u001b[0mRuntimeError\u001b[0m\u001b[1;33m(\u001b[0m\u001b[1;34m\"generator didn't yield\"\u001b[0m\u001b[1;33m)\u001b[0m \u001b[1;32mfrom\u001b[0m \u001b[1;32mNone\u001b[0m\u001b[1;33m\u001b[0m\u001b[0m\n",
      "\u001b[1;32m~\\Anaconda3\\envs\\tensorflow_p36\\lib\\site-packages\\matplotlib\\cbook\\__init__.py\u001b[0m in \u001b[0;36mopen_file_cm\u001b[1;34m(path_or_file, mode, encoding)\u001b[0m\n\u001b[0;32m    405\u001b[0m \u001b[1;32mdef\u001b[0m \u001b[0mopen_file_cm\u001b[0m\u001b[1;33m(\u001b[0m\u001b[0mpath_or_file\u001b[0m\u001b[1;33m,\u001b[0m \u001b[0mmode\u001b[0m\u001b[1;33m=\u001b[0m\u001b[1;34m\"r\"\u001b[0m\u001b[1;33m,\u001b[0m \u001b[0mencoding\u001b[0m\u001b[1;33m=\u001b[0m\u001b[1;32mNone\u001b[0m\u001b[1;33m)\u001b[0m\u001b[1;33m:\u001b[0m\u001b[1;33m\u001b[0m\u001b[0m\n\u001b[0;32m    406\u001b[0m     \u001b[1;34mr\"\"\"Pass through file objects and context-manage `.PathLike`\\s.\"\"\"\u001b[0m\u001b[1;33m\u001b[0m\u001b[0m\n\u001b[1;32m--> 407\u001b[1;33m     \u001b[0mfh\u001b[0m\u001b[1;33m,\u001b[0m \u001b[0mopened\u001b[0m \u001b[1;33m=\u001b[0m \u001b[0mto_filehandle\u001b[0m\u001b[1;33m(\u001b[0m\u001b[0mpath_or_file\u001b[0m\u001b[1;33m,\u001b[0m \u001b[0mmode\u001b[0m\u001b[1;33m,\u001b[0m \u001b[1;32mTrue\u001b[0m\u001b[1;33m,\u001b[0m \u001b[0mencoding\u001b[0m\u001b[1;33m)\u001b[0m\u001b[1;33m\u001b[0m\u001b[0m\n\u001b[0m\u001b[0;32m    408\u001b[0m     \u001b[1;32mif\u001b[0m \u001b[0mopened\u001b[0m\u001b[1;33m:\u001b[0m\u001b[1;33m\u001b[0m\u001b[0m\n\u001b[0;32m    409\u001b[0m         \u001b[1;32mwith\u001b[0m \u001b[0mfh\u001b[0m\u001b[1;33m:\u001b[0m\u001b[1;33m\u001b[0m\u001b[0m\n",
      "\u001b[1;32m~\\Anaconda3\\envs\\tensorflow_p36\\lib\\site-packages\\matplotlib\\cbook\\__init__.py\u001b[0m in \u001b[0;36mto_filehandle\u001b[1;34m(fname, flag, return_opened, encoding)\u001b[0m\n\u001b[0;32m    390\u001b[0m             \u001b[0mfh\u001b[0m \u001b[1;33m=\u001b[0m \u001b[0mbz2\u001b[0m\u001b[1;33m.\u001b[0m\u001b[0mBZ2File\u001b[0m\u001b[1;33m(\u001b[0m\u001b[0mfname\u001b[0m\u001b[1;33m,\u001b[0m \u001b[0mflag\u001b[0m\u001b[1;33m)\u001b[0m\u001b[1;33m\u001b[0m\u001b[0m\n\u001b[0;32m    391\u001b[0m         \u001b[1;32melse\u001b[0m\u001b[1;33m:\u001b[0m\u001b[1;33m\u001b[0m\u001b[0m\n\u001b[1;32m--> 392\u001b[1;33m             \u001b[0mfh\u001b[0m \u001b[1;33m=\u001b[0m \u001b[0mopen\u001b[0m\u001b[1;33m(\u001b[0m\u001b[0mfname\u001b[0m\u001b[1;33m,\u001b[0m \u001b[0mflag\u001b[0m\u001b[1;33m,\u001b[0m \u001b[0mencoding\u001b[0m\u001b[1;33m=\u001b[0m\u001b[0mencoding\u001b[0m\u001b[1;33m)\u001b[0m\u001b[1;33m\u001b[0m\u001b[0m\n\u001b[0m\u001b[0;32m    393\u001b[0m         \u001b[0mopened\u001b[0m \u001b[1;33m=\u001b[0m \u001b[1;32mTrue\u001b[0m\u001b[1;33m\u001b[0m\u001b[0m\n\u001b[0;32m    394\u001b[0m     \u001b[1;32melif\u001b[0m \u001b[0mhasattr\u001b[0m\u001b[1;33m(\u001b[0m\u001b[0mfname\u001b[0m\u001b[1;33m,\u001b[0m \u001b[1;34m'seek'\u001b[0m\u001b[1;33m)\u001b[0m\u001b[1;33m:\u001b[0m\u001b[1;33m\u001b[0m\u001b[0m\n",
      "\u001b[1;31mFileNotFoundError\u001b[0m: [Errno 2] No such file or directory: 'pltfigs/LSTM_layers3_units16_epochs300_batch_size32_r2score~0.951.png'"
     ]
    },
    {
     "data": {
      "image/png": "[encoded data removed]",
      "text/plain": [
       "<Figure size 432x288 with 2 Axes>"
      ]
     },
     "metadata": {
      "needs_background": "light"
     },
     "output_type": "display_data"
    }
   ],
   "source": [
    "val_loss = history.history['val_loss']\n",
    "\n",
    "plt.figure(1)\n",
    "plt.subplot(211)\n",
    "plt.plot(sc_Y.inverse_transform(y_pred_test_lstm[:30]),'b',label='Predictions')\n",
    "plt.plot(sc_Y.inverse_transform(Y_val[:30]),'r',label='Real')\n",
    "plt.title('LSTM_Stock-Predictions',)\n",
    "plt.xlabel('Index')\n",
    "plt.ylabel('Price')\n",
    "score = \"{:0.3f}\".format(r2score)\n",
    "plt.text(0,plt.ylim()[1]*0.9,'R2 score: '+ score)\n",
    "plt.legend(loc='lower right')\n",
    "\n",
    "\n",
    "plt.grid(True)\n",
    "\n",
    "\n",
    "plt.subplot(212)\n",
    "plt.title(\"Trainning Lose\")\n",
    "plt.xlabel(\"epochs\")\n",
    "plt.ylabel(\"loss\")\n",
    "plt.plot(val_loss,label='loss')\n",
    "plt.legend(loc='upper right')\n",
    "notate_xy = [np.argmin(val_loss),np.min(val_loss)]\n",
    "plt.annotate('epoch min: {:0.4f}'.format(notate_xy[1]), xy=notate_xy, xytext=(np.argmin(val_loss)*0.5, np.max(val_loss)*0.5),arrowprops=dict(facecolor='black', shrink=0.05),)\n",
    "plt.grid(True)\n",
    "plt.subplots_adjust(hspace=0.7)\n",
    "saveName = 'LSTM_layers'+str(LSTM_num)+'_units'+str(units)+'_epochs'+str(epochs)+'_batch_size'+str(batch_size)+'_r2score~'+str(score)\n",
    "plt.savefig('pltfigs/'+saveName+'.png',dpi=200)\n",
    "plt.show()"
   ]
  },
  {
   "cell_type": "code",
   "execution_count": null,
   "metadata": {},
   "outputs": [],
   "source": [
    "model_lstm.save(saveName+'.h5')"
   ]
  },
  {
   "cell_type": "code",
   "execution_count": null,
   "metadata": {},
   "outputs": [],
   "source": [
    "def rmse(val , pred):\n",
    "    return np.mean(np.divide(pred,val))\n",
    "print(str(rmse(Y_val,y_pred_test_lstm)))"
   ]
  },
  {
   "cell_type": "code",
   "execution_count": 54,
   "metadata": {},
   "outputs": [
    {
     "name": "stdout",
     "output_type": "stream",
     "text": [
      "3.6226495041592024\n",
      "(1229, 20, 9)\n"
     ]
    }
   ],
   "source": [
    "a = sc_Y.inverse_transform(y_pred_test_lstm)\n",
    "b = sc_Y.inverse_transform(Y_val)\n",
    "def unperiods(data,days=20):\n",
    "    l = []\n",
    "    for a in data:\n",
    "        l.extend(a)\n",
    "    return l\n",
    "\n",
    "print(np.mean(np.abs(a-b)/b)*100)\n",
    "a = unperiods(a)\n",
    "b = unperiods(b)\n",
    "print(X_val.shape)"
   ]
  },
  {
   "cell_type": "code",
   "execution_count": 47,
   "metadata": {},
   "outputs": [],
   "source": [
    "prices= tc\n",
    "#sr: spread rate\n",
    "def ROR(preds,real,init_funds,period,sr=0.004,s=False):\n",
    "    dict_Info = {\n",
    "        'total_costs':[],\n",
    "        'total_prices':[],\n",
    "        'trade_times':[],\n",
    "        'verbose':[],\n",
    "        \"RORs\":[]\n",
    "    }\n",
    "    funds = init_funds\n",
    "    profit=0\n",
    "    total_cost=0\n",
    "    total_price=0\n",
    "    acc = []\n",
    "    times = 0\n",
    "    verbose = ''\n",
    "    for i,p in enumerate(real):\n",
    "        #print(dates_val[i],prices[i][0],preds[i],p,p-prices[i][0])\n",
    "        if preds[i]>prices[i][0] and (abs(preds[i]-prices[i][0])/prices[i][0]) > sr:\n",
    "            times +=1\n",
    "            quantity = int(funds / preds[i])\n",
    "            total_cost += prices[i][0] * quantity\n",
    "            total_price += p * quantity\n",
    "            funds += (p-prices[i][0]) * quantity\n",
    "            #verbose += \"\\nBuy Date: {} - {}\\nPrediction: {}\\nReal Price: {}\\nSpread: {}\\n\".format(dates_val[i],prices[i][0],preds[i],p,p-prices[i][0])\n",
    "        if (i+1)%period==0:\n",
    "            #pass and not record the rate of prediciotn 'pre' < rate of threshold 'r'\n",
    "            if total_cost != 0:\n",
    "                dict_Info['total_costs'].append(total_cost*1000)\n",
    "                dict_Info['total_prices'].append(total_price*1000)\n",
    "                dict_Info['trade_times'].append(times)\n",
    "                dict_Info['verbose'].append(verbose)\n",
    "                dict_Info['RORs'].append((funds)/init_funds)\n",
    "            times=0\n",
    "            funds = init_funds\n",
    "            total_cost=0\n",
    "            total_price=0\n",
    "            verbose = ''\n",
    "    if times!=0:\n",
    "        dict_Info['total_costs'].append(total_cost*1000)\n",
    "        dict_Info['total_prices'].append(total_price*1000)\n",
    "        dict_Info['trade_times'].append(times)\n",
    "        dict_Info['verbose'].append(verbose)\n",
    "        dict_Info['RORs'].append((funds)/init_funds*0.99575)\n",
    "    return dict_Info,init_funds"
   ]
  },
  {
   "cell_type": "code",
   "execution_count": 48,
   "metadata": {},
   "outputs": [
    {
     "ename": "IndexError",
     "evalue": "index 999 is out of bounds for axis 0 with size 999",
     "output_type": "error",
     "traceback": [
      "\u001b[1;31m---------------------------------------------------------------------------\u001b[0m",
      "\u001b[1;31mIndexError\u001b[0m                                Traceback (most recent call last)",
      "\u001b[1;32m<ipython-input-48-2f2c456e2e98>\u001b[0m in \u001b[0;36m<module>\u001b[1;34m\u001b[0m\n\u001b[1;32m----> 1\u001b[1;33m \u001b[0md\u001b[0m\u001b[1;33m,\u001b[0m\u001b[0mfunds\u001b[0m \u001b[1;33m=\u001b[0m \u001b[0mROR\u001b[0m\u001b[1;33m(\u001b[0m\u001b[0ma\u001b[0m\u001b[1;33m,\u001b[0m\u001b[0mb\u001b[0m\u001b[1;33m,\u001b[0m\u001b[1;36m1000\u001b[0m\u001b[1;33m,\u001b[0m\u001b[1;36m20\u001b[0m\u001b[1;33m*\u001b[0m\u001b[1;36m12\u001b[0m\u001b[1;33m)\u001b[0m\u001b[1;33m\u001b[0m\u001b[0m\n\u001b[0m\u001b[0;32m      2\u001b[0m \u001b[1;32mfor\u001b[0m \u001b[0mi\u001b[0m \u001b[1;32min\u001b[0m \u001b[0mrange\u001b[0m\u001b[1;33m(\u001b[0m\u001b[0mlen\u001b[0m\u001b[1;33m(\u001b[0m\u001b[0md\u001b[0m\u001b[1;33m[\u001b[0m\u001b[1;34m'total_prices'\u001b[0m\u001b[1;33m]\u001b[0m\u001b[1;33m)\u001b[0m\u001b[1;33m)\u001b[0m\u001b[1;33m:\u001b[0m\u001b[1;33m\u001b[0m\u001b[0m\n\u001b[0;32m      3\u001b[0m     msg = 'Total Costs: {}\\nInitial Funds: {}\\nProfits: {}\\nReturn Of Rate: {}\\n'.format(d['total_costs'][i],\n\u001b[0;32m      4\u001b[0m                                                                                      \u001b[0md\u001b[0m\u001b[1;33m[\u001b[0m\u001b[1;34m'trade_times'\u001b[0m\u001b[1;33m]\u001b[0m\u001b[1;33m[\u001b[0m\u001b[0mi\u001b[0m\u001b[1;33m]\u001b[0m\u001b[1;33m,\u001b[0m\u001b[1;33m\u001b[0m\u001b[0m\n\u001b[0;32m      5\u001b[0m                                                                                     \u001b[0mfunds\u001b[0m\u001b[1;33m*\u001b[0m\u001b[1;36m1000\u001b[0m\u001b[1;33m,\u001b[0m\u001b[1;33m\u001b[0m\u001b[0m\n",
      "\u001b[1;32m<ipython-input-47-32c3f162b606>\u001b[0m in \u001b[0;36mROR\u001b[1;34m(preds, real, init_funds, period, sr, s)\u001b[0m\n\u001b[0;32m     18\u001b[0m     \u001b[1;32mfor\u001b[0m \u001b[0mi\u001b[0m\u001b[1;33m,\u001b[0m\u001b[0mp\u001b[0m \u001b[1;32min\u001b[0m \u001b[0menumerate\u001b[0m\u001b[1;33m(\u001b[0m\u001b[0mreal\u001b[0m\u001b[1;33m)\u001b[0m\u001b[1;33m:\u001b[0m\u001b[1;33m\u001b[0m\u001b[0m\n\u001b[0;32m     19\u001b[0m         \u001b[1;31m#print(dates_val[i],prices[i][0],preds[i],p,p-prices[i][0])\u001b[0m\u001b[1;33m\u001b[0m\u001b[1;33m\u001b[0m\u001b[0m\n\u001b[1;32m---> 20\u001b[1;33m         \u001b[1;32mif\u001b[0m \u001b[0mpreds\u001b[0m\u001b[1;33m[\u001b[0m\u001b[0mi\u001b[0m\u001b[1;33m]\u001b[0m\u001b[1;33m>\u001b[0m\u001b[0mprices\u001b[0m\u001b[1;33m[\u001b[0m\u001b[0mi\u001b[0m\u001b[1;33m]\u001b[0m\u001b[1;33m[\u001b[0m\u001b[1;36m0\u001b[0m\u001b[1;33m]\u001b[0m \u001b[1;32mand\u001b[0m \u001b[1;33m(\u001b[0m\u001b[0mabs\u001b[0m\u001b[1;33m(\u001b[0m\u001b[0mpreds\u001b[0m\u001b[1;33m[\u001b[0m\u001b[0mi\u001b[0m\u001b[1;33m]\u001b[0m\u001b[1;33m-\u001b[0m\u001b[0mprices\u001b[0m\u001b[1;33m[\u001b[0m\u001b[0mi\u001b[0m\u001b[1;33m]\u001b[0m\u001b[1;33m[\u001b[0m\u001b[1;36m0\u001b[0m\u001b[1;33m]\u001b[0m\u001b[1;33m)\u001b[0m\u001b[1;33m/\u001b[0m\u001b[0mprices\u001b[0m\u001b[1;33m[\u001b[0m\u001b[0mi\u001b[0m\u001b[1;33m]\u001b[0m\u001b[1;33m[\u001b[0m\u001b[1;36m0\u001b[0m\u001b[1;33m]\u001b[0m\u001b[1;33m)\u001b[0m \u001b[1;33m>\u001b[0m \u001b[0msr\u001b[0m\u001b[1;33m:\u001b[0m\u001b[1;33m\u001b[0m\u001b[0m\n\u001b[0m\u001b[0;32m     21\u001b[0m             \u001b[0mtimes\u001b[0m \u001b[1;33m+=\u001b[0m\u001b[1;36m1\u001b[0m\u001b[1;33m\u001b[0m\u001b[0m\n\u001b[0;32m     22\u001b[0m             \u001b[0mquantity\u001b[0m \u001b[1;33m=\u001b[0m \u001b[0mint\u001b[0m\u001b[1;33m(\u001b[0m\u001b[0mfunds\u001b[0m \u001b[1;33m/\u001b[0m \u001b[0mpreds\u001b[0m\u001b[1;33m[\u001b[0m\u001b[0mi\u001b[0m\u001b[1;33m]\u001b[0m\u001b[1;33m)\u001b[0m\u001b[1;33m\u001b[0m\u001b[0m\n",
      "\u001b[1;31mIndexError\u001b[0m: index 999 is out of bounds for axis 0 with size 999"
     ]
    }
   ],
   "source": [
    "d,funds = ROR(a,b,1000,20*12)\n",
    "for i in range(len(d['total_prices'])):\n",
    "    msg = 'Total Costs: {}\\nInitial Funds: {}\\nProfits: {}\\nReturn Of Rate: {}\\n'.format(d['total_costs'][i],\n",
    "                                                                                     d['trade_times'][i],\n",
    "                                                                                    funds*1000,\n",
    "                                                                                     (d['total_prices'][i]-d['total_costs'][i])*0.99575,\n",
    "                                                                                     d['RORs'][i])\n",
    "    #print(d['verbose'][i])\n",
    "    print(msg)\n",
    "print(\"Average of Months ROR: {:.3f}\".format(np.mean(d['RORs'])))"
   ]
  },
  {
   "cell_type": "code",
   "execution_count": null,
   "metadata": {},
   "outputs": [],
   "source": []
  }
 ],
 "metadata": {
  "kernelspec": {
   "display_name": "Python 3",
   "language": "python",
   "name": "python3"
  },
  "language_info": {
   "codemirror_mode": {
    "name": "ipython",
    "version": 3
   },
   "file_extension": ".py",
   "mimetype": "text/x-python",
   "name": "python",
   "nbconvert_exporter": "python",
   "pygments_lexer": "ipython3",
   "version": "3.6.5"
  }
 },
 "nbformat": 4,
 "nbformat_minor": 2
}
